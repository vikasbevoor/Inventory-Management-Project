{
 "cells": [
  {
   "cell_type": "markdown",
   "metadata": {},
   "source": [
    "# Inventory Management Project"
   ]
  },
  {
   "cell_type": "code",
   "execution_count": 2,
   "metadata": {},
   "outputs": [],
   "source": [
    "# Importing the necessary libraries\n",
    "import pandas as pd\n",
    "import numpy as np\n",
    "import matplotlib.pyplot as plt\n",
    "import seaborn as sns\n",
    "%matplotlib inline"
   ]
  },
  {
   "cell_type": "code",
   "execution_count": 3,
   "metadata": {},
   "outputs": [
    {
     "data": {
      "text/html": [
       "<div>\n",
       "<style scoped>\n",
       "    .dataframe tbody tr th:only-of-type {\n",
       "        vertical-align: middle;\n",
       "    }\n",
       "\n",
       "    .dataframe tbody tr th {\n",
       "        vertical-align: top;\n",
       "    }\n",
       "\n",
       "    .dataframe thead th {\n",
       "        text-align: right;\n",
       "    }\n",
       "</style>\n",
       "<table border=\"1\" class=\"dataframe\">\n",
       "  <thead>\n",
       "    <tr style=\"text-align: right;\">\n",
       "      <th></th>\n",
       "      <th>Product type</th>\n",
       "      <th>Revenue</th>\n",
       "      <th>No of purchases</th>\n",
       "      <th>store status</th>\n",
       "      <th>Promotion applied</th>\n",
       "      <th>Generic Holiday</th>\n",
       "      <th>Education Holiday</th>\n",
       "      <th>DayOfWeek</th>\n",
       "    </tr>\n",
       "  </thead>\n",
       "  <tbody>\n",
       "    <tr>\n",
       "      <th>0</th>\n",
       "      <td>1</td>\n",
       "      <td>14190</td>\n",
       "      <td>890</td>\n",
       "      <td>open</td>\n",
       "      <td>1</td>\n",
       "      <td>0</td>\n",
       "      <td>1</td>\n",
       "      <td>5</td>\n",
       "    </tr>\n",
       "    <tr>\n",
       "      <th>1</th>\n",
       "      <td>2</td>\n",
       "      <td>6064</td>\n",
       "      <td>789</td>\n",
       "      <td>open</td>\n",
       "      <td>1</td>\n",
       "      <td>0</td>\n",
       "      <td>1</td>\n",
       "      <td>5</td>\n",
       "    </tr>\n",
       "    <tr>\n",
       "      <th>2</th>\n",
       "      <td>3</td>\n",
       "      <td>14190</td>\n",
       "      <td>821</td>\n",
       "      <td>open</td>\n",
       "      <td>1</td>\n",
       "      <td>0</td>\n",
       "      <td>1</td>\n",
       "      <td>5</td>\n",
       "    </tr>\n",
       "    <tr>\n",
       "      <th>3</th>\n",
       "      <td>4</td>\n",
       "      <td>13995</td>\n",
       "      <td>456</td>\n",
       "      <td>open</td>\n",
       "      <td>1</td>\n",
       "      <td>0</td>\n",
       "      <td>1</td>\n",
       "      <td>5</td>\n",
       "    </tr>\n",
       "    <tr>\n",
       "      <th>4</th>\n",
       "      <td>5</td>\n",
       "      <td>4822</td>\n",
       "      <td>559</td>\n",
       "      <td>open</td>\n",
       "      <td>1</td>\n",
       "      <td>0</td>\n",
       "      <td>1</td>\n",
       "      <td>5</td>\n",
       "    </tr>\n",
       "  </tbody>\n",
       "</table>\n",
       "</div>"
      ],
      "text/plain": [
       "   Product type  Revenue  No of purchases store status  Promotion applied  \\\n",
       "0             1    14190              890         open                  1   \n",
       "1             2     6064              789         open                  1   \n",
       "2             3    14190              821         open                  1   \n",
       "3             4    13995              456         open                  1   \n",
       "4             5     4822              559         open                  1   \n",
       "\n",
       "  Generic Holiday  Education Holiday  DayOfWeek  \n",
       "0               0                  1          5  \n",
       "1               0                  1          5  \n",
       "2               0                  1          5  \n",
       "3               0                  1          5  \n",
       "4               0                  1          5  "
      ]
     },
     "execution_count": 3,
     "metadata": {},
     "output_type": "execute_result"
    }
   ],
   "source": [
    "# Importing the dataset\n",
    "data = pd.read_csv(r\"C:\\Users\\Admin\\Downloads\\prorevenue.csv\",low_memory=False )\n",
    "data.head()"
   ]
  },
  {
   "cell_type": "code",
   "execution_count": 4,
   "metadata": {},
   "outputs": [
    {
     "data": {
      "text/plain": [
       "(1017209, 8)"
      ]
     },
     "execution_count": 4,
     "metadata": {},
     "output_type": "execute_result"
    }
   ],
   "source": [
    "data.shape"
   ]
  },
  {
   "cell_type": "code",
   "execution_count": 5,
   "metadata": {},
   "outputs": [
    {
     "data": {
      "text/html": [
       "<div>\n",
       "<style scoped>\n",
       "    .dataframe tbody tr th:only-of-type {\n",
       "        vertical-align: middle;\n",
       "    }\n",
       "\n",
       "    .dataframe tbody tr th {\n",
       "        vertical-align: top;\n",
       "    }\n",
       "\n",
       "    .dataframe thead th {\n",
       "        text-align: right;\n",
       "    }\n",
       "</style>\n",
       "<table border=\"1\" class=\"dataframe\">\n",
       "  <thead>\n",
       "    <tr style=\"text-align: right;\">\n",
       "      <th></th>\n",
       "      <th>Product type</th>\n",
       "      <th>Revenue</th>\n",
       "      <th>No of purchases</th>\n",
       "      <th>Promotion applied</th>\n",
       "      <th>Education Holiday</th>\n",
       "      <th>DayOfWeek</th>\n",
       "    </tr>\n",
       "  </thead>\n",
       "  <tbody>\n",
       "    <tr>\n",
       "      <th>count</th>\n",
       "      <td>1.017209e+06</td>\n",
       "      <td>1.017209e+06</td>\n",
       "      <td>1.017209e+06</td>\n",
       "      <td>1.017209e+06</td>\n",
       "      <td>1.017209e+06</td>\n",
       "      <td>1.017209e+06</td>\n",
       "    </tr>\n",
       "    <tr>\n",
       "      <th>mean</th>\n",
       "      <td>5.584297e+02</td>\n",
       "      <td>5.773832e+03</td>\n",
       "      <td>6.331444e+02</td>\n",
       "      <td>3.815145e-01</td>\n",
       "      <td>1.786467e-01</td>\n",
       "      <td>3.998341e+00</td>\n",
       "    </tr>\n",
       "    <tr>\n",
       "      <th>std</th>\n",
       "      <td>3.219087e+02</td>\n",
       "      <td>3.849954e+03</td>\n",
       "      <td>4.644115e+02</td>\n",
       "      <td>4.857586e-01</td>\n",
       "      <td>3.830564e-01</td>\n",
       "      <td>1.997391e+00</td>\n",
       "    </tr>\n",
       "    <tr>\n",
       "      <th>min</th>\n",
       "      <td>1.000000e+00</td>\n",
       "      <td>0.000000e+00</td>\n",
       "      <td>0.000000e+00</td>\n",
       "      <td>0.000000e+00</td>\n",
       "      <td>0.000000e+00</td>\n",
       "      <td>1.000000e+00</td>\n",
       "    </tr>\n",
       "    <tr>\n",
       "      <th>25%</th>\n",
       "      <td>2.800000e+02</td>\n",
       "      <td>3.727000e+03</td>\n",
       "      <td>4.050000e+02</td>\n",
       "      <td>0.000000e+00</td>\n",
       "      <td>0.000000e+00</td>\n",
       "      <td>2.000000e+00</td>\n",
       "    </tr>\n",
       "    <tr>\n",
       "      <th>50%</th>\n",
       "      <td>5.580000e+02</td>\n",
       "      <td>5.744000e+03</td>\n",
       "      <td>6.090000e+02</td>\n",
       "      <td>0.000000e+00</td>\n",
       "      <td>0.000000e+00</td>\n",
       "      <td>4.000000e+00</td>\n",
       "    </tr>\n",
       "    <tr>\n",
       "      <th>75%</th>\n",
       "      <td>8.380000e+02</td>\n",
       "      <td>7.856000e+03</td>\n",
       "      <td>8.370000e+02</td>\n",
       "      <td>1.000000e+00</td>\n",
       "      <td>0.000000e+00</td>\n",
       "      <td>6.000000e+00</td>\n",
       "    </tr>\n",
       "    <tr>\n",
       "      <th>max</th>\n",
       "      <td>1.115000e+03</td>\n",
       "      <td>4.155100e+04</td>\n",
       "      <td>7.388000e+03</td>\n",
       "      <td>1.000000e+00</td>\n",
       "      <td>1.000000e+00</td>\n",
       "      <td>7.000000e+00</td>\n",
       "    </tr>\n",
       "  </tbody>\n",
       "</table>\n",
       "</div>"
      ],
      "text/plain": [
       "       Product type       Revenue  No of purchases  Promotion applied  \\\n",
       "count  1.017209e+06  1.017209e+06     1.017209e+06       1.017209e+06   \n",
       "mean   5.584297e+02  5.773832e+03     6.331444e+02       3.815145e-01   \n",
       "std    3.219087e+02  3.849954e+03     4.644115e+02       4.857586e-01   \n",
       "min    1.000000e+00  0.000000e+00     0.000000e+00       0.000000e+00   \n",
       "25%    2.800000e+02  3.727000e+03     4.050000e+02       0.000000e+00   \n",
       "50%    5.580000e+02  5.744000e+03     6.090000e+02       0.000000e+00   \n",
       "75%    8.380000e+02  7.856000e+03     8.370000e+02       1.000000e+00   \n",
       "max    1.115000e+03  4.155100e+04     7.388000e+03       1.000000e+00   \n",
       "\n",
       "       Education Holiday     DayOfWeek  \n",
       "count       1.017209e+06  1.017209e+06  \n",
       "mean        1.786467e-01  3.998341e+00  \n",
       "std         3.830564e-01  1.997391e+00  \n",
       "min         0.000000e+00  1.000000e+00  \n",
       "25%         0.000000e+00  2.000000e+00  \n",
       "50%         0.000000e+00  4.000000e+00  \n",
       "75%         0.000000e+00  6.000000e+00  \n",
       "max         1.000000e+00  7.000000e+00  "
      ]
     },
     "execution_count": 5,
     "metadata": {},
     "output_type": "execute_result"
    }
   ],
   "source": [
    "data.describe()"
   ]
  },
  {
   "cell_type": "code",
   "execution_count": 6,
   "metadata": {},
   "outputs": [
    {
     "name": "stdout",
     "output_type": "stream",
     "text": [
      "<class 'pandas.core.frame.DataFrame'>\n",
      "RangeIndex: 1017209 entries, 0 to 1017208\n",
      "Data columns (total 8 columns):\n",
      " #   Column             Non-Null Count    Dtype \n",
      "---  ------             --------------    ----- \n",
      " 0   Product type       1017209 non-null  int64 \n",
      " 1   Revenue            1017209 non-null  int64 \n",
      " 2   No of purchases    1017209 non-null  int64 \n",
      " 3   store status       1017209 non-null  object\n",
      " 4   Promotion applied  1017209 non-null  int64 \n",
      " 5   Generic Holiday    1017209 non-null  object\n",
      " 6   Education Holiday  1017209 non-null  int64 \n",
      " 7   DayOfWeek          1017209 non-null  int64 \n",
      "dtypes: int64(6), object(2)\n",
      "memory usage: 62.1+ MB\n"
     ]
    }
   ],
   "source": [
    "data.info()"
   ]
  },
  {
   "cell_type": "code",
   "execution_count": 7,
   "metadata": {
    "scrolled": true
   },
   "outputs": [
    {
     "data": {
      "text/plain": [
       "Index(['Product type', 'Revenue', 'No of purchases', 'store status',\n",
       "       'Promotion applied', 'Generic Holiday', 'Education Holiday',\n",
       "       'DayOfWeek'],\n",
       "      dtype='object')"
      ]
     },
     "execution_count": 7,
     "metadata": {},
     "output_type": "execute_result"
    }
   ],
   "source": [
    "data.columns"
   ]
  },
  {
   "cell_type": "code",
   "execution_count": 8,
   "metadata": {},
   "outputs": [
    {
     "name": "stdout",
     "output_type": "stream",
     "text": [
      "Product type :  1115\n",
      "Revenue :  21734\n",
      "No of purchases :  4086\n",
      "store status :  2\n",
      "Promotion applied :  2\n",
      "Generic Holiday :  4\n",
      "Education Holiday :  2\n",
      "DayOfWeek :  7\n"
     ]
    }
   ],
   "source": [
    "# Number of unique values\n",
    "for feature in data.columns:\n",
    "    count = data[feature].nunique()\n",
    "    print(feature, \": \", count)"
   ]
  },
  {
   "cell_type": "markdown",
   "metadata": {},
   "source": [
    "## Exploratory Data Analysis"
   ]
  },
  {
   "cell_type": "code",
   "execution_count": 9,
   "metadata": {},
   "outputs": [
    {
     "data": {
      "text/plain": [
       "Product type         0\n",
       "Revenue              0\n",
       "No of purchases      0\n",
       "store status         0\n",
       "Promotion applied    0\n",
       "Generic Holiday      0\n",
       "Education Holiday    0\n",
       "DayOfWeek            0\n",
       "dtype: int64"
      ]
     },
     "execution_count": 9,
     "metadata": {},
     "output_type": "execute_result"
    }
   ],
   "source": [
    "data.isna().sum()"
   ]
  },
  {
   "cell_type": "markdown",
   "metadata": {},
   "source": [
    "#### There are no NA values in the dataset"
   ]
  },
  {
   "cell_type": "code",
   "execution_count": 10,
   "metadata": {},
   "outputs": [],
   "source": [
    "# Encoding the \"store status\""
   ]
  },
  {
   "cell_type": "code",
   "execution_count": 11,
   "metadata": {},
   "outputs": [],
   "source": [
    "data[\"store status\"] = pd.get_dummies(data[\"store status\"], drop_first=True)"
   ]
  },
  {
   "cell_type": "code",
   "execution_count": 12,
   "metadata": {
    "scrolled": true
   },
   "outputs": [
    {
     "data": {
      "text/plain": [
       "1    844390\n",
       "0    172819\n",
       "Name: store status, dtype: int64"
      ]
     },
     "execution_count": 12,
     "metadata": {},
     "output_type": "execute_result"
    }
   ],
   "source": [
    "data[\"store status\"].value_counts()"
   ]
  },
  {
   "cell_type": "code",
   "execution_count": 13,
   "metadata": {},
   "outputs": [],
   "source": [
    "# Converting the multiple categories of generic holidays into '0' and '1'"
   ]
  },
  {
   "cell_type": "code",
   "execution_count": 14,
   "metadata": {
    "scrolled": true
   },
   "outputs": [
    {
     "data": {
      "text/plain": [
       "array(['0', 'a', 'b', 'c'], dtype=object)"
      ]
     },
     "execution_count": 14,
     "metadata": {},
     "output_type": "execute_result"
    }
   ],
   "source": [
    "data[\"Generic Holiday\"].unique()"
   ]
  },
  {
   "cell_type": "code",
   "execution_count": 15,
   "metadata": {},
   "outputs": [],
   "source": [
    "data.loc[data[\"Generic Holiday\"] == 'a',\"Generic Holiday\"] = 1\n",
    "data.loc[data[\"Generic Holiday\"] == 'b',\"Generic Holiday\"] = 1\n",
    "data.loc[data[\"Generic Holiday\"] == 'c',\"Generic Holiday\"] = 1\n",
    "data.loc[data[\"Generic Holiday\"] == '0',\"Generic Holiday\"] = 0"
   ]
  },
  {
   "cell_type": "code",
   "execution_count": 16,
   "metadata": {},
   "outputs": [
    {
     "data": {
      "text/plain": [
       "array([0, 1], dtype=object)"
      ]
     },
     "execution_count": 16,
     "metadata": {},
     "output_type": "execute_result"
    }
   ],
   "source": [
    "data[\"Generic Holiday\"].unique()"
   ]
  },
  {
   "cell_type": "code",
   "execution_count": 17,
   "metadata": {
    "scrolled": true
   },
   "outputs": [
    {
     "data": {
      "text/plain": [
       "0    986159\n",
       "1     31050\n",
       "Name: Generic Holiday, dtype: int64"
      ]
     },
     "execution_count": 17,
     "metadata": {},
     "output_type": "execute_result"
    }
   ],
   "source": [
    "data[\"Generic Holiday\"].value_counts()"
   ]
  },
  {
   "cell_type": "code",
   "execution_count": 18,
   "metadata": {},
   "outputs": [],
   "source": [
    "data[\"Generic Holiday\"]= data[\"Generic Holiday\"].astype(int)"
   ]
  },
  {
   "cell_type": "code",
   "execution_count": 19,
   "metadata": {},
   "outputs": [
    {
     "data": {
      "text/html": [
       "<div>\n",
       "<style scoped>\n",
       "    .dataframe tbody tr th:only-of-type {\n",
       "        vertical-align: middle;\n",
       "    }\n",
       "\n",
       "    .dataframe tbody tr th {\n",
       "        vertical-align: top;\n",
       "    }\n",
       "\n",
       "    .dataframe thead th {\n",
       "        text-align: right;\n",
       "    }\n",
       "</style>\n",
       "<table border=\"1\" class=\"dataframe\">\n",
       "  <thead>\n",
       "    <tr style=\"text-align: right;\">\n",
       "      <th></th>\n",
       "      <th>Product type</th>\n",
       "      <th>Revenue</th>\n",
       "      <th>No of purchases</th>\n",
       "      <th>store status</th>\n",
       "      <th>Promotion applied</th>\n",
       "      <th>Generic Holiday</th>\n",
       "      <th>Education Holiday</th>\n",
       "      <th>DayOfWeek</th>\n",
       "    </tr>\n",
       "  </thead>\n",
       "  <tbody>\n",
       "    <tr>\n",
       "      <th>count</th>\n",
       "      <td>1.017209e+06</td>\n",
       "      <td>1.017209e+06</td>\n",
       "      <td>1.017209e+06</td>\n",
       "      <td>1.017209e+06</td>\n",
       "      <td>1.017209e+06</td>\n",
       "      <td>1.017209e+06</td>\n",
       "      <td>1.017209e+06</td>\n",
       "      <td>1.017209e+06</td>\n",
       "    </tr>\n",
       "    <tr>\n",
       "      <th>mean</th>\n",
       "      <td>5.584297e+02</td>\n",
       "      <td>5.773832e+03</td>\n",
       "      <td>6.331444e+02</td>\n",
       "      <td>8.301047e-01</td>\n",
       "      <td>3.815145e-01</td>\n",
       "      <td>3.052470e-02</td>\n",
       "      <td>1.786467e-01</td>\n",
       "      <td>3.998341e+00</td>\n",
       "    </tr>\n",
       "    <tr>\n",
       "      <th>std</th>\n",
       "      <td>3.219087e+02</td>\n",
       "      <td>3.849954e+03</td>\n",
       "      <td>4.644115e+02</td>\n",
       "      <td>3.755410e-01</td>\n",
       "      <td>4.857586e-01</td>\n",
       "      <td>1.720261e-01</td>\n",
       "      <td>3.830564e-01</td>\n",
       "      <td>1.997391e+00</td>\n",
       "    </tr>\n",
       "    <tr>\n",
       "      <th>min</th>\n",
       "      <td>1.000000e+00</td>\n",
       "      <td>0.000000e+00</td>\n",
       "      <td>0.000000e+00</td>\n",
       "      <td>0.000000e+00</td>\n",
       "      <td>0.000000e+00</td>\n",
       "      <td>0.000000e+00</td>\n",
       "      <td>0.000000e+00</td>\n",
       "      <td>1.000000e+00</td>\n",
       "    </tr>\n",
       "    <tr>\n",
       "      <th>25%</th>\n",
       "      <td>2.800000e+02</td>\n",
       "      <td>3.727000e+03</td>\n",
       "      <td>4.050000e+02</td>\n",
       "      <td>1.000000e+00</td>\n",
       "      <td>0.000000e+00</td>\n",
       "      <td>0.000000e+00</td>\n",
       "      <td>0.000000e+00</td>\n",
       "      <td>2.000000e+00</td>\n",
       "    </tr>\n",
       "    <tr>\n",
       "      <th>50%</th>\n",
       "      <td>5.580000e+02</td>\n",
       "      <td>5.744000e+03</td>\n",
       "      <td>6.090000e+02</td>\n",
       "      <td>1.000000e+00</td>\n",
       "      <td>0.000000e+00</td>\n",
       "      <td>0.000000e+00</td>\n",
       "      <td>0.000000e+00</td>\n",
       "      <td>4.000000e+00</td>\n",
       "    </tr>\n",
       "    <tr>\n",
       "      <th>75%</th>\n",
       "      <td>8.380000e+02</td>\n",
       "      <td>7.856000e+03</td>\n",
       "      <td>8.370000e+02</td>\n",
       "      <td>1.000000e+00</td>\n",
       "      <td>1.000000e+00</td>\n",
       "      <td>0.000000e+00</td>\n",
       "      <td>0.000000e+00</td>\n",
       "      <td>6.000000e+00</td>\n",
       "    </tr>\n",
       "    <tr>\n",
       "      <th>max</th>\n",
       "      <td>1.115000e+03</td>\n",
       "      <td>4.155100e+04</td>\n",
       "      <td>7.388000e+03</td>\n",
       "      <td>1.000000e+00</td>\n",
       "      <td>1.000000e+00</td>\n",
       "      <td>1.000000e+00</td>\n",
       "      <td>1.000000e+00</td>\n",
       "      <td>7.000000e+00</td>\n",
       "    </tr>\n",
       "  </tbody>\n",
       "</table>\n",
       "</div>"
      ],
      "text/plain": [
       "       Product type       Revenue  No of purchases  store status  \\\n",
       "count  1.017209e+06  1.017209e+06     1.017209e+06  1.017209e+06   \n",
       "mean   5.584297e+02  5.773832e+03     6.331444e+02  8.301047e-01   \n",
       "std    3.219087e+02  3.849954e+03     4.644115e+02  3.755410e-01   \n",
       "min    1.000000e+00  0.000000e+00     0.000000e+00  0.000000e+00   \n",
       "25%    2.800000e+02  3.727000e+03     4.050000e+02  1.000000e+00   \n",
       "50%    5.580000e+02  5.744000e+03     6.090000e+02  1.000000e+00   \n",
       "75%    8.380000e+02  7.856000e+03     8.370000e+02  1.000000e+00   \n",
       "max    1.115000e+03  4.155100e+04     7.388000e+03  1.000000e+00   \n",
       "\n",
       "       Promotion applied  Generic Holiday  Education Holiday     DayOfWeek  \n",
       "count       1.017209e+06     1.017209e+06       1.017209e+06  1.017209e+06  \n",
       "mean        3.815145e-01     3.052470e-02       1.786467e-01  3.998341e+00  \n",
       "std         4.857586e-01     1.720261e-01       3.830564e-01  1.997391e+00  \n",
       "min         0.000000e+00     0.000000e+00       0.000000e+00  1.000000e+00  \n",
       "25%         0.000000e+00     0.000000e+00       0.000000e+00  2.000000e+00  \n",
       "50%         0.000000e+00     0.000000e+00       0.000000e+00  4.000000e+00  \n",
       "75%         1.000000e+00     0.000000e+00       0.000000e+00  6.000000e+00  \n",
       "max         1.000000e+00     1.000000e+00       1.000000e+00  7.000000e+00  "
      ]
     },
     "execution_count": 19,
     "metadata": {},
     "output_type": "execute_result"
    }
   ],
   "source": [
    "data.describe()"
   ]
  },
  {
   "cell_type": "markdown",
   "metadata": {},
   "source": [
    "### Correlation matrix"
   ]
  },
  {
   "cell_type": "code",
   "execution_count": 20,
   "metadata": {},
   "outputs": [
    {
     "data": {
      "text/html": [
       "<div>\n",
       "<style scoped>\n",
       "    .dataframe tbody tr th:only-of-type {\n",
       "        vertical-align: middle;\n",
       "    }\n",
       "\n",
       "    .dataframe tbody tr th {\n",
       "        vertical-align: top;\n",
       "    }\n",
       "\n",
       "    .dataframe thead th {\n",
       "        text-align: right;\n",
       "    }\n",
       "</style>\n",
       "<table border=\"1\" class=\"dataframe\">\n",
       "  <thead>\n",
       "    <tr style=\"text-align: right;\">\n",
       "      <th></th>\n",
       "      <th>Product type</th>\n",
       "      <th>Revenue</th>\n",
       "      <th>No of purchases</th>\n",
       "      <th>store status</th>\n",
       "      <th>Promotion applied</th>\n",
       "      <th>Generic Holiday</th>\n",
       "      <th>Education Holiday</th>\n",
       "      <th>DayOfWeek</th>\n",
       "    </tr>\n",
       "  </thead>\n",
       "  <tbody>\n",
       "    <tr>\n",
       "      <th>Product type</th>\n",
       "      <td>1.000000</td>\n",
       "      <td>0.005119</td>\n",
       "      <td>0.024331</td>\n",
       "      <td>-0.000039</td>\n",
       "      <td>0.000058</td>\n",
       "      <td>0.000542</td>\n",
       "      <td>0.000641</td>\n",
       "      <td>-0.000008</td>\n",
       "    </tr>\n",
       "    <tr>\n",
       "      <th>Revenue</th>\n",
       "      <td>0.005119</td>\n",
       "      <td>1.000000</td>\n",
       "      <td>0.894702</td>\n",
       "      <td>0.678470</td>\n",
       "      <td>0.452346</td>\n",
       "      <td>-0.254215</td>\n",
       "      <td>0.085136</td>\n",
       "      <td>-0.462120</td>\n",
       "    </tr>\n",
       "    <tr>\n",
       "      <th>No of purchases</th>\n",
       "      <td>0.024331</td>\n",
       "      <td>0.894702</td>\n",
       "      <td>1.000000</td>\n",
       "      <td>0.616768</td>\n",
       "      <td>0.316165</td>\n",
       "      <td>-0.226607</td>\n",
       "      <td>0.071564</td>\n",
       "      <td>-0.386447</td>\n",
       "    </tr>\n",
       "    <tr>\n",
       "      <th>store status</th>\n",
       "      <td>-0.000039</td>\n",
       "      <td>0.678470</td>\n",
       "      <td>0.616768</td>\n",
       "      <td>1.000000</td>\n",
       "      <td>0.295034</td>\n",
       "      <td>-0.378375</td>\n",
       "      <td>0.086166</td>\n",
       "      <td>-0.528963</td>\n",
       "    </tr>\n",
       "    <tr>\n",
       "      <th>Promotion applied</th>\n",
       "      <td>0.000058</td>\n",
       "      <td>0.452346</td>\n",
       "      <td>0.316165</td>\n",
       "      <td>0.295034</td>\n",
       "      <td>1.000000</td>\n",
       "      <td>-0.012353</td>\n",
       "      <td>0.067483</td>\n",
       "      <td>-0.392925</td>\n",
       "    </tr>\n",
       "    <tr>\n",
       "      <th>Generic Holiday</th>\n",
       "      <td>0.000542</td>\n",
       "      <td>-0.254215</td>\n",
       "      <td>-0.226607</td>\n",
       "      <td>-0.378375</td>\n",
       "      <td>-0.012353</td>\n",
       "      <td>1.000000</td>\n",
       "      <td>0.148651</td>\n",
       "      <td>-0.052889</td>\n",
       "    </tr>\n",
       "    <tr>\n",
       "      <th>Education Holiday</th>\n",
       "      <td>0.000641</td>\n",
       "      <td>0.085136</td>\n",
       "      <td>0.071564</td>\n",
       "      <td>0.086166</td>\n",
       "      <td>0.067483</td>\n",
       "      <td>0.148651</td>\n",
       "      <td>1.000000</td>\n",
       "      <td>-0.205388</td>\n",
       "    </tr>\n",
       "    <tr>\n",
       "      <th>DayOfWeek</th>\n",
       "      <td>-0.000008</td>\n",
       "      <td>-0.462120</td>\n",
       "      <td>-0.386447</td>\n",
       "      <td>-0.528963</td>\n",
       "      <td>-0.392925</td>\n",
       "      <td>-0.052889</td>\n",
       "      <td>-0.205388</td>\n",
       "      <td>1.000000</td>\n",
       "    </tr>\n",
       "  </tbody>\n",
       "</table>\n",
       "</div>"
      ],
      "text/plain": [
       "                   Product type   Revenue  No of purchases  store status  \\\n",
       "Product type           1.000000  0.005119         0.024331     -0.000039   \n",
       "Revenue                0.005119  1.000000         0.894702      0.678470   \n",
       "No of purchases        0.024331  0.894702         1.000000      0.616768   \n",
       "store status          -0.000039  0.678470         0.616768      1.000000   \n",
       "Promotion applied      0.000058  0.452346         0.316165      0.295034   \n",
       "Generic Holiday        0.000542 -0.254215        -0.226607     -0.378375   \n",
       "Education Holiday      0.000641  0.085136         0.071564      0.086166   \n",
       "DayOfWeek             -0.000008 -0.462120        -0.386447     -0.528963   \n",
       "\n",
       "                   Promotion applied  Generic Holiday  Education Holiday  \\\n",
       "Product type                0.000058         0.000542           0.000641   \n",
       "Revenue                     0.452346        -0.254215           0.085136   \n",
       "No of purchases             0.316165        -0.226607           0.071564   \n",
       "store status                0.295034        -0.378375           0.086166   \n",
       "Promotion applied           1.000000        -0.012353           0.067483   \n",
       "Generic Holiday            -0.012353         1.000000           0.148651   \n",
       "Education Holiday           0.067483         0.148651           1.000000   \n",
       "DayOfWeek                  -0.392925        -0.052889          -0.205388   \n",
       "\n",
       "                   DayOfWeek  \n",
       "Product type       -0.000008  \n",
       "Revenue            -0.462120  \n",
       "No of purchases    -0.386447  \n",
       "store status       -0.528963  \n",
       "Promotion applied  -0.392925  \n",
       "Generic Holiday    -0.052889  \n",
       "Education Holiday  -0.205388  \n",
       "DayOfWeek           1.000000  "
      ]
     },
     "execution_count": 20,
     "metadata": {},
     "output_type": "execute_result"
    }
   ],
   "source": [
    "correlation = data.corr()\n",
    "correlation"
   ]
  },
  {
   "cell_type": "code",
   "execution_count": 21,
   "metadata": {},
   "outputs": [
    {
     "data": {
      "text/plain": [
       "<matplotlib.axes._subplots.AxesSubplot at 0x1fc9c4998c8>"
      ]
     },
     "execution_count": 21,
     "metadata": {},
     "output_type": "execute_result"
    },
    {
     "data": {
      "image/png": "[encoded data removed]",
      "text/plain": [
       "<Figure size 1080x432 with 2 Axes>"
      ]
     },
     "metadata": {
      "needs_background": "light"
     },
     "output_type": "display_data"
    }
   ],
   "source": [
    "plt.figure(figsize = (15,6))\n",
    "sns.heatmap(correlation, cbar = True, cmap = \"viridis\")"
   ]
  },
  {
   "cell_type": "markdown",
   "metadata": {},
   "source": [
    "#### There is a high correlation between the, \n",
    "#### 1. \"Revenue\" and \"No of purchases\" -> 89.6 % correlation \n",
    "#### 2. \"Revenue\" and \"Store status\"  -> 67.8 % of correlation"
   ]
  },
  {
   "cell_type": "markdown",
   "metadata": {},
   "source": [
    "### Univariate analysis"
   ]
  },
  {
   "cell_type": "code",
   "execution_count": 22,
   "metadata": {},
   "outputs": [
    {
     "name": "stdout",
     "output_type": "stream",
     "text": [
      "Number of numerical features: 3\n"
     ]
    }
   ],
   "source": [
    "numerical_features = [feature for feature in data.columns if data[feature].dtypes != \"O\" and len(data[feature].unique())>25]\n",
    "print(\"Number of numerical features:\", len(numerical_features))"
   ]
  },
  {
   "cell_type": "code",
   "execution_count": 23,
   "metadata": {},
   "outputs": [
    {
     "data": {
      "image/png": "[encoded data removed]",
      "text/plain": [
       "<Figure size 432x288 with 1 Axes>"
      ]
     },
     "metadata": {
      "needs_background": "light"
     },
     "output_type": "display_data"
    },
    {
     "data": {
      "image/png": "[encoded data removed]",
      "text/plain": [
       "<Figure size 432x288 with 1 Axes>"
      ]
     },
     "metadata": {
      "needs_background": "light"
     },
     "output_type": "display_data"
    },
    {
     "data": {
      "image/png": "[encoded data removed]",
      "text/plain": [
       "<Figure size 432x288 with 1 Axes>"
      ]
     },
     "metadata": {
      "needs_background": "light"
     },
     "output_type": "display_data"
    }
   ],
   "source": [
    "# Using histograms to analyze the distribution of numerical features\n",
    "for feature in numerical_features:\n",
    "    dataset = data.copy()\n",
    "    dataset[feature].hist(bins=20)\n",
    "    plt.xlabel(feature)\n",
    "    plt.ylabel(\"Count\")\n",
    "    plt.title(\"Histogram of \"+ feature)\n",
    "    plt.show()"
   ]
  },
  {
   "cell_type": "markdown",
   "metadata": {},
   "source": [
    "#### Both \"Revenue\" and \"Number of purchases\" are right skewwed"
   ]
  },
  {
   "cell_type": "code",
   "execution_count": 24,
   "metadata": {},
   "outputs": [
    {
     "data": {
      "image/png": "[encoded data removed]",
      "text/plain": [
       "<Figure size 432x288 with 1 Axes>"
      ]
     },
     "metadata": {
      "needs_background": "light"
     },
     "output_type": "display_data"
    },
    {
     "data": {
      "image/png": "[encoded data removed]",
      "text/plain": [
       "<Figure size 432x288 with 1 Axes>"
      ]
     },
     "metadata": {
      "needs_background": "light"
     },
     "output_type": "display_data"
    },
    {
     "data": {
      "image/png": "[encoded data removed]",
      "text/plain": [
       "<Figure size 432x288 with 1 Axes>"
      ]
     },
     "metadata": {
      "needs_background": "light"
     },
     "output_type": "display_data"
    }
   ],
   "source": [
    "# Using the boxplots to identify the outliers in the dataset\n",
    "for feature in numerical_features:\n",
    "    data = dataset.copy()\n",
    "    data.boxplot(column=feature)\n",
    "    plt.title(\"Boxplot of \"+ feature)\n",
    "    plt.show()"
   ]
  },
  {
   "cell_type": "markdown",
   "metadata": {},
   "source": [
    "#### There are lot of outliers in the \"Revenue\" and \"Number of purchases\""
   ]
  },
  {
   "cell_type": "code",
   "execution_count": 25,
   "metadata": {},
   "outputs": [],
   "source": [
    "# Discrete features\n",
    "discrete_features = [feature for feature in data.columns if feature not in numerical_features]"
   ]
  },
  {
   "cell_type": "code",
   "execution_count": 26,
   "metadata": {},
   "outputs": [
    {
     "data": {
      "image/png": "[encoded data removed]",
      "text/plain": [
       "<Figure size 432x288 with 1 Axes>"
      ]
     },
     "metadata": {
      "needs_background": "light"
     },
     "output_type": "display_data"
    },
    {
     "data": {
      "image/png": "[encoded data removed]",
      "text/plain": [
       "<Figure size 432x288 with 1 Axes>"
      ]
     },
     "metadata": {
      "needs_background": "light"
     },
     "output_type": "display_data"
    },
    {
     "data": {
      "image/png": "[encoded data removed]",
      "text/plain": [
       "<Figure size 432x288 with 1 Axes>"
      ]
     },
     "metadata": {
      "needs_background": "light"
     },
     "output_type": "display_data"
    },
    {
     "data": {
      "image/png": "[encoded data removed]",
      "text/plain": [
       "<Figure size 432x288 with 1 Axes>"
      ]
     },
     "metadata": {
      "needs_background": "light"
     },
     "output_type": "display_data"
    },
    {
     "data": {
      "image/png": "[encoded data removed]",
      "text/plain": [
       "<Figure size 432x288 with 1 Axes>"
      ]
     },
     "metadata": {
      "needs_background": "light"
     },
     "output_type": "display_data"
    }
   ],
   "source": [
    "# Countplots for discrete features\n",
    "for feature in discrete_features:\n",
    "    sns.countplot(feature, data= data, palette='hls')\n",
    "    plt.show()"
   ]
  },
  {
   "cell_type": "markdown",
   "metadata": {},
   "source": [
    "### Bivariate analysis"
   ]
  },
  {
   "cell_type": "code",
   "execution_count": 27,
   "metadata": {},
   "outputs": [
    {
     "name": "stderr",
     "output_type": "stream",
     "text": [
      "C:\\Users\\Admin\\Anaconda3\\lib\\site-packages\\matplotlib\\cbook\\__init__.py:1402: FutureWarning: Support for multi-dimensional indexing (e.g. `obj[:, None]`) is deprecated and will be removed in a future version.  Convert to a numpy array before indexing instead.\n",
      "  x[:, None]\n",
      "C:\\Users\\Admin\\Anaconda3\\lib\\site-packages\\matplotlib\\axes\\_base.py:276: FutureWarning: Support for multi-dimensional indexing (e.g. `obj[:, None]`) is deprecated and will be removed in a future version.  Convert to a numpy array before indexing instead.\n",
      "  x = x[:, np.newaxis]\n",
      "C:\\Users\\Admin\\Anaconda3\\lib\\site-packages\\matplotlib\\axes\\_base.py:278: FutureWarning: Support for multi-dimensional indexing (e.g. `obj[:, None]`) is deprecated and will be removed in a future version.  Convert to a numpy array before indexing instead.\n",
      "  y = y[:, np.newaxis]\n"
     ]
    },
    {
     "data": {
      "image/png": "[encoded data removed]",
      "text/plain": [
       "<Figure size 432x288 with 1 Axes>"
      ]
     },
     "metadata": {
      "needs_background": "light"
     },
     "output_type": "display_data"
    }
   ],
   "source": [
    "# Scatterplot of numerical features\n",
    "plt.plot(data[\"Revenue\"], data[\"No of purchases\"], \"bo\")\n",
    "plt.xlabel(\"Revenue\")\n",
    "plt.ylabel(\"No of purchases\")\n",
    "plt.title(\"Scatter plot of \"+ \"Revenue and No of purchases\")\n",
    "plt.show()"
   ]
  },
  {
   "cell_type": "code",
   "execution_count": 28,
   "metadata": {},
   "outputs": [
    {
     "data": {
      "image/png": "[encoded data removed]",
      "text/plain": [
       "<Figure size 432x288 with 1 Axes>"
      ]
     },
     "metadata": {
      "needs_background": "light"
     },
     "output_type": "display_data"
    }
   ],
   "source": [
    "plt.plot(data[\"Product type\"], data[\"Revenue\"], \"bo\")\n",
    "plt.xlabel(\"Product type\")\n",
    "plt.ylabel(\"Revenue\")\n",
    "plt.title(\"Scatter plot of \"+ \"Product type and Revenue\")\n",
    "plt.show()"
   ]
  },
  {
   "cell_type": "markdown",
   "metadata": {},
   "source": [
    "#### Some products have high \"Revenue\" and some products have lower \"Revenue\""
   ]
  },
  {
   "cell_type": "code",
   "execution_count": 29,
   "metadata": {},
   "outputs": [],
   "source": [
    "# Discrete feature bivariate analysis with \"Revenue\""
   ]
  },
  {
   "cell_type": "code",
   "execution_count": 30,
   "metadata": {
    "scrolled": true
   },
   "outputs": [
    {
     "data": {
      "image/png": "[encoded data removed]",
      "text/plain": [
       "<Figure size 432x288 with 1 Axes>"
      ]
     },
     "metadata": {
      "needs_background": "light"
     },
     "output_type": "display_data"
    },
    {
     "data": {
      "image/png": "[encoded data removed]",
      "text/plain": [
       "<Figure size 432x288 with 1 Axes>"
      ]
     },
     "metadata": {
      "needs_background": "light"
     },
     "output_type": "display_data"
    },
    {
     "data": {
      "image/png": "[encoded data removed]",
      "text/plain": [
       "<Figure size 432x288 with 1 Axes>"
      ]
     },
     "metadata": {
      "needs_background": "light"
     },
     "output_type": "display_data"
    },
    {
     "data": {
      "image/png": "[encoded data removed]",
      "text/plain": [
       "<Figure size 432x288 with 1 Axes>"
      ]
     },
     "metadata": {
      "needs_background": "light"
     },
     "output_type": "display_data"
    },
    {
     "data": {
      "image/png": "[encoded data removed]",
      "text/plain": [
       "<Figure size 432x288 with 1 Axes>"
      ]
     },
     "metadata": {
      "needs_background": "light"
     },
     "output_type": "display_data"
    }
   ],
   "source": [
    "for feature in discrete_features:\n",
    "    dataset = data.copy()\n",
    "    data.groupby(feature)[\"Revenue\"].mean().plot.bar()\n",
    "    plt.xlabel(feature)\n",
    "    plt.ylabel(\"Revenue\")\n",
    "    plt.title(feature+\" v/s Revenue\")\n",
    "    plt.show()"
   ]
  },
  {
   "cell_type": "markdown",
   "metadata": {},
   "source": [
    "### Observations\n",
    "1. When the promotion is applied the revenue is higher.\n",
    "2. \"Education Holiday\" is not effecting the store status.\n",
    "3. On 1st day of week the revenue is highest and it reduces gardually till weekend (6h day).\n",
    "4. Store remains closed on 7th day or Sunday."
   ]
  },
  {
   "cell_type": "code",
   "execution_count": 31,
   "metadata": {},
   "outputs": [],
   "source": [
    "# Cross tabulation plot"
   ]
  },
  {
   "cell_type": "code",
   "execution_count": 32,
   "metadata": {},
   "outputs": [
    {
     "data": {
      "text/plain": [
       "<matplotlib.axes._subplots.AxesSubplot at 0x1fc9ce1f1c8>"
      ]
     },
     "execution_count": 32,
     "metadata": {},
     "output_type": "execute_result"
    },
    {
     "data": {
      "image/png": "[encoded data removed]",
      "text/plain": [
       "<Figure size 432x288 with 1 Axes>"
      ]
     },
     "metadata": {
      "needs_background": "light"
     },
     "output_type": "display_data"
    }
   ],
   "source": [
    "pd.crosstab(data[\"DayOfWeek\"], data[\"store status\"]).plot(kind=\"bar\")"
   ]
  },
  {
   "cell_type": "code",
   "execution_count": 33,
   "metadata": {
    "scrolled": true
   },
   "outputs": [
    {
     "data": {
      "text/plain": [
       "<matplotlib.axes._subplots.AxesSubplot at 0x1fc9cc93f88>"
      ]
     },
     "execution_count": 33,
     "metadata": {},
     "output_type": "execute_result"
    },
    {
     "data": {
      "image/png": "[encoded data removed]",
      "text/plain": [
       "<Figure size 432x288 with 1 Axes>"
      ]
     },
     "metadata": {
      "needs_background": "light"
     },
     "output_type": "display_data"
    }
   ],
   "source": [
    "pd.crosstab(data[\"Generic Holiday\"], data[\"store status\"]).plot(kind=\"bar\")"
   ]
  },
  {
   "cell_type": "code",
   "execution_count": 34,
   "metadata": {},
   "outputs": [
    {
     "data": {
      "text/plain": [
       "<matplotlib.axes._subplots.AxesSubplot at 0x1fc9c607b08>"
      ]
     },
     "execution_count": 34,
     "metadata": {},
     "output_type": "execute_result"
    },
    {
     "data": {
      "image/png": "[encoded data removed]",
      "text/plain": [
       "<Figure size 432x288 with 1 Axes>"
      ]
     },
     "metadata": {
      "needs_background": "light"
     },
     "output_type": "display_data"
    }
   ],
   "source": [
    "pd.crosstab(data[\"DayOfWeek\"], data[\"Promotion applied\"]).plot(kind=\"bar\")"
   ]
  },
  {
   "cell_type": "markdown",
   "metadata": {},
   "source": [
    "#### Promotion is applied only on the weekdays i.e from 1st day of week to 5th day of week"
   ]
  },
  {
   "cell_type": "markdown",
   "metadata": {},
   "source": [
    "## Importing Product details dataset"
   ]
  },
  {
   "cell_type": "code",
   "execution_count": 35,
   "metadata": {
    "scrolled": true
   },
   "outputs": [
    {
     "data": {
      "text/html": [
       "<div>\n",
       "<style scoped>\n",
       "    .dataframe tbody tr th:only-of-type {\n",
       "        vertical-align: middle;\n",
       "    }\n",
       "\n",
       "    .dataframe tbody tr th {\n",
       "        vertical-align: top;\n",
       "    }\n",
       "\n",
       "    .dataframe thead th {\n",
       "        text-align: right;\n",
       "    }\n",
       "</style>\n",
       "<table border=\"1\" class=\"dataframe\">\n",
       "  <thead>\n",
       "    <tr style=\"text-align: right;\">\n",
       "      <th></th>\n",
       "      <th>Unnamed: 0</th>\n",
       "      <th>product type</th>\n",
       "      <th>cost per unit</th>\n",
       "      <th>Time for delivery</th>\n",
       "    </tr>\n",
       "  </thead>\n",
       "  <tbody>\n",
       "    <tr>\n",
       "      <th>0</th>\n",
       "      <td>0</td>\n",
       "      <td>1</td>\n",
       "      <td>457</td>\n",
       "      <td>11</td>\n",
       "    </tr>\n",
       "    <tr>\n",
       "      <th>1</th>\n",
       "      <td>1</td>\n",
       "      <td>2</td>\n",
       "      <td>1545</td>\n",
       "      <td>13</td>\n",
       "    </tr>\n",
       "    <tr>\n",
       "      <th>2</th>\n",
       "      <td>2</td>\n",
       "      <td>3</td>\n",
       "      <td>1910</td>\n",
       "      <td>14</td>\n",
       "    </tr>\n",
       "    <tr>\n",
       "      <th>3</th>\n",
       "      <td>3</td>\n",
       "      <td>4</td>\n",
       "      <td>131</td>\n",
       "      <td>9</td>\n",
       "    </tr>\n",
       "    <tr>\n",
       "      <th>4</th>\n",
       "      <td>4</td>\n",
       "      <td>5</td>\n",
       "      <td>868</td>\n",
       "      <td>8</td>\n",
       "    </tr>\n",
       "  </tbody>\n",
       "</table>\n",
       "</div>"
      ],
      "text/plain": [
       "   Unnamed: 0  product type  cost per unit  Time for delivery\n",
       "0           0             1            457                 11\n",
       "1           1             2           1545                 13\n",
       "2           2             3           1910                 14\n",
       "3           3             4            131                  9\n",
       "4           4             5            868                  8"
      ]
     },
     "execution_count": 35,
     "metadata": {},
     "output_type": "execute_result"
    }
   ],
   "source": [
    "data2 = pd.read_csv(r\"C:\\Users\\Admin\\Downloads\\productdetails.csv\")\n",
    "data2.head()"
   ]
  },
  {
   "cell_type": "code",
   "execution_count": 36,
   "metadata": {},
   "outputs": [
    {
     "data": {
      "text/plain": [
       "(1115, 4)"
      ]
     },
     "execution_count": 36,
     "metadata": {},
     "output_type": "execute_result"
    }
   ],
   "source": [
    "data2.shape"
   ]
  },
  {
   "cell_type": "code",
   "execution_count": 37,
   "metadata": {},
   "outputs": [
    {
     "data": {
      "text/html": [
       "<div>\n",
       "<style scoped>\n",
       "    .dataframe tbody tr th:only-of-type {\n",
       "        vertical-align: middle;\n",
       "    }\n",
       "\n",
       "    .dataframe tbody tr th {\n",
       "        vertical-align: top;\n",
       "    }\n",
       "\n",
       "    .dataframe thead th {\n",
       "        text-align: right;\n",
       "    }\n",
       "</style>\n",
       "<table border=\"1\" class=\"dataframe\">\n",
       "  <thead>\n",
       "    <tr style=\"text-align: right;\">\n",
       "      <th></th>\n",
       "      <th>Unnamed: 0</th>\n",
       "      <th>product type</th>\n",
       "      <th>cost per unit</th>\n",
       "      <th>Time for delivery</th>\n",
       "    </tr>\n",
       "  </thead>\n",
       "  <tbody>\n",
       "    <tr>\n",
       "      <th>count</th>\n",
       "      <td>1115.00000</td>\n",
       "      <td>1115.00000</td>\n",
       "      <td>1115.000000</td>\n",
       "      <td>1115.000000</td>\n",
       "    </tr>\n",
       "    <tr>\n",
       "      <th>mean</th>\n",
       "      <td>557.00000</td>\n",
       "      <td>558.00000</td>\n",
       "      <td>1012.735426</td>\n",
       "      <td>9.542601</td>\n",
       "    </tr>\n",
       "    <tr>\n",
       "      <th>std</th>\n",
       "      <td>322.01708</td>\n",
       "      <td>322.01708</td>\n",
       "      <td>565.696913</td>\n",
       "      <td>2.857276</td>\n",
       "    </tr>\n",
       "    <tr>\n",
       "      <th>min</th>\n",
       "      <td>0.00000</td>\n",
       "      <td>1.00000</td>\n",
       "      <td>50.000000</td>\n",
       "      <td>5.000000</td>\n",
       "    </tr>\n",
       "    <tr>\n",
       "      <th>25%</th>\n",
       "      <td>278.50000</td>\n",
       "      <td>279.50000</td>\n",
       "      <td>502.500000</td>\n",
       "      <td>7.000000</td>\n",
       "    </tr>\n",
       "    <tr>\n",
       "      <th>50%</th>\n",
       "      <td>557.00000</td>\n",
       "      <td>558.00000</td>\n",
       "      <td>1024.000000</td>\n",
       "      <td>10.000000</td>\n",
       "    </tr>\n",
       "    <tr>\n",
       "      <th>75%</th>\n",
       "      <td>835.50000</td>\n",
       "      <td>836.50000</td>\n",
       "      <td>1517.500000</td>\n",
       "      <td>12.000000</td>\n",
       "    </tr>\n",
       "    <tr>\n",
       "      <th>max</th>\n",
       "      <td>1114.00000</td>\n",
       "      <td>1115.00000</td>\n",
       "      <td>1999.000000</td>\n",
       "      <td>14.000000</td>\n",
       "    </tr>\n",
       "  </tbody>\n",
       "</table>\n",
       "</div>"
      ],
      "text/plain": [
       "       Unnamed: 0  product type  cost per unit  Time for delivery\n",
       "count  1115.00000    1115.00000    1115.000000        1115.000000\n",
       "mean    557.00000     558.00000    1012.735426           9.542601\n",
       "std     322.01708     322.01708     565.696913           2.857276\n",
       "min       0.00000       1.00000      50.000000           5.000000\n",
       "25%     278.50000     279.50000     502.500000           7.000000\n",
       "50%     557.00000     558.00000    1024.000000          10.000000\n",
       "75%     835.50000     836.50000    1517.500000          12.000000\n",
       "max    1114.00000    1115.00000    1999.000000          14.000000"
      ]
     },
     "execution_count": 37,
     "metadata": {},
     "output_type": "execute_result"
    }
   ],
   "source": [
    "data2.describe()"
   ]
  },
  {
   "cell_type": "code",
   "execution_count": 38,
   "metadata": {},
   "outputs": [
    {
     "name": "stdout",
     "output_type": "stream",
     "text": [
      "<class 'pandas.core.frame.DataFrame'>\n",
      "RangeIndex: 1115 entries, 0 to 1114\n",
      "Data columns (total 4 columns):\n",
      " #   Column             Non-Null Count  Dtype\n",
      "---  ------             --------------  -----\n",
      " 0   Unnamed: 0         1115 non-null   int64\n",
      " 1   product type       1115 non-null   int64\n",
      " 2   cost per unit      1115 non-null   int64\n",
      " 3   Time for delivery  1115 non-null   int64\n",
      "dtypes: int64(4)\n",
      "memory usage: 35.0 KB\n"
     ]
    }
   ],
   "source": [
    "data2.info()"
   ]
  },
  {
   "cell_type": "code",
   "execution_count": 39,
   "metadata": {},
   "outputs": [
    {
     "data": {
      "text/plain": [
       "Product type         0\n",
       "Revenue              0\n",
       "No of purchases      0\n",
       "store status         0\n",
       "Promotion applied    0\n",
       "Generic Holiday      0\n",
       "Education Holiday    0\n",
       "DayOfWeek            0\n",
       "dtype: int64"
      ]
     },
     "execution_count": 39,
     "metadata": {},
     "output_type": "execute_result"
    }
   ],
   "source": [
    "data.isna().sum()"
   ]
  },
  {
   "cell_type": "markdown",
   "metadata": {},
   "source": [
    "## Combining two datasets"
   ]
  },
  {
   "cell_type": "code",
   "execution_count": 40,
   "metadata": {},
   "outputs": [],
   "source": [
    "data_full = data2.merge(data, left_on = \"product type\", right_on = \"Product type\", how = 'right')"
   ]
  },
  {
   "cell_type": "code",
   "execution_count": 41,
   "metadata": {},
   "outputs": [
    {
     "data": {
      "text/html": [
       "<div>\n",
       "<style scoped>\n",
       "    .dataframe tbody tr th:only-of-type {\n",
       "        vertical-align: middle;\n",
       "    }\n",
       "\n",
       "    .dataframe tbody tr th {\n",
       "        vertical-align: top;\n",
       "    }\n",
       "\n",
       "    .dataframe thead th {\n",
       "        text-align: right;\n",
       "    }\n",
       "</style>\n",
       "<table border=\"1\" class=\"dataframe\">\n",
       "  <thead>\n",
       "    <tr style=\"text-align: right;\">\n",
       "      <th></th>\n",
       "      <th>Unnamed: 0</th>\n",
       "      <th>product type</th>\n",
       "      <th>cost per unit</th>\n",
       "      <th>Time for delivery</th>\n",
       "      <th>Product type</th>\n",
       "      <th>Revenue</th>\n",
       "      <th>No of purchases</th>\n",
       "      <th>store status</th>\n",
       "      <th>Promotion applied</th>\n",
       "      <th>Generic Holiday</th>\n",
       "      <th>Education Holiday</th>\n",
       "      <th>DayOfWeek</th>\n",
       "    </tr>\n",
       "  </thead>\n",
       "  <tbody>\n",
       "    <tr>\n",
       "      <th>0</th>\n",
       "      <td>0</td>\n",
       "      <td>1</td>\n",
       "      <td>457</td>\n",
       "      <td>11</td>\n",
       "      <td>1</td>\n",
       "      <td>14190</td>\n",
       "      <td>890</td>\n",
       "      <td>1</td>\n",
       "      <td>1</td>\n",
       "      <td>0</td>\n",
       "      <td>1</td>\n",
       "      <td>5</td>\n",
       "    </tr>\n",
       "    <tr>\n",
       "      <th>1</th>\n",
       "      <td>0</td>\n",
       "      <td>1</td>\n",
       "      <td>457</td>\n",
       "      <td>11</td>\n",
       "      <td>1</td>\n",
       "      <td>5020</td>\n",
       "      <td>546</td>\n",
       "      <td>1</td>\n",
       "      <td>1</td>\n",
       "      <td>0</td>\n",
       "      <td>1</td>\n",
       "      <td>4</td>\n",
       "    </tr>\n",
       "    <tr>\n",
       "      <th>2</th>\n",
       "      <td>0</td>\n",
       "      <td>1</td>\n",
       "      <td>457</td>\n",
       "      <td>11</td>\n",
       "      <td>1</td>\n",
       "      <td>4782</td>\n",
       "      <td>523</td>\n",
       "      <td>1</td>\n",
       "      <td>1</td>\n",
       "      <td>0</td>\n",
       "      <td>1</td>\n",
       "      <td>3</td>\n",
       "    </tr>\n",
       "    <tr>\n",
       "      <th>3</th>\n",
       "      <td>0</td>\n",
       "      <td>1</td>\n",
       "      <td>457</td>\n",
       "      <td>11</td>\n",
       "      <td>1</td>\n",
       "      <td>5011</td>\n",
       "      <td>560</td>\n",
       "      <td>1</td>\n",
       "      <td>1</td>\n",
       "      <td>0</td>\n",
       "      <td>1</td>\n",
       "      <td>2</td>\n",
       "    </tr>\n",
       "    <tr>\n",
       "      <th>4</th>\n",
       "      <td>0</td>\n",
       "      <td>1</td>\n",
       "      <td>457</td>\n",
       "      <td>11</td>\n",
       "      <td>1</td>\n",
       "      <td>6102</td>\n",
       "      <td>612</td>\n",
       "      <td>1</td>\n",
       "      <td>1</td>\n",
       "      <td>0</td>\n",
       "      <td>1</td>\n",
       "      <td>1</td>\n",
       "    </tr>\n",
       "  </tbody>\n",
       "</table>\n",
       "</div>"
      ],
      "text/plain": [
       "   Unnamed: 0  product type  cost per unit  Time for delivery  Product type  \\\n",
       "0           0             1            457                 11             1   \n",
       "1           0             1            457                 11             1   \n",
       "2           0             1            457                 11             1   \n",
       "3           0             1            457                 11             1   \n",
       "4           0             1            457                 11             1   \n",
       "\n",
       "   Revenue  No of purchases  store status  Promotion applied  Generic Holiday  \\\n",
       "0    14190              890             1                  1                0   \n",
       "1     5020              546             1                  1                0   \n",
       "2     4782              523             1                  1                0   \n",
       "3     5011              560             1                  1                0   \n",
       "4     6102              612             1                  1                0   \n",
       "\n",
       "   Education Holiday  DayOfWeek  \n",
       "0                  1          5  \n",
       "1                  1          4  \n",
       "2                  1          3  \n",
       "3                  1          2  \n",
       "4                  1          1  "
      ]
     },
     "execution_count": 41,
     "metadata": {},
     "output_type": "execute_result"
    }
   ],
   "source": [
    "data_full.head()"
   ]
  },
  {
   "cell_type": "code",
   "execution_count": 42,
   "metadata": {},
   "outputs": [
    {
     "data": {
      "text/html": [
       "<div>\n",
       "<style scoped>\n",
       "    .dataframe tbody tr th:only-of-type {\n",
       "        vertical-align: middle;\n",
       "    }\n",
       "\n",
       "    .dataframe tbody tr th {\n",
       "        vertical-align: top;\n",
       "    }\n",
       "\n",
       "    .dataframe thead th {\n",
       "        text-align: right;\n",
       "    }\n",
       "</style>\n",
       "<table border=\"1\" class=\"dataframe\">\n",
       "  <thead>\n",
       "    <tr style=\"text-align: right;\">\n",
       "      <th></th>\n",
       "      <th>Unnamed: 0</th>\n",
       "      <th>product type</th>\n",
       "      <th>cost per unit</th>\n",
       "      <th>Time for delivery</th>\n",
       "      <th>Product type</th>\n",
       "      <th>Revenue</th>\n",
       "      <th>No of purchases</th>\n",
       "      <th>store status</th>\n",
       "      <th>Promotion applied</th>\n",
       "      <th>Generic Holiday</th>\n",
       "      <th>Education Holiday</th>\n",
       "      <th>DayOfWeek</th>\n",
       "    </tr>\n",
       "  </thead>\n",
       "  <tbody>\n",
       "    <tr>\n",
       "      <th>1017204</th>\n",
       "      <td>1114</td>\n",
       "      <td>1115</td>\n",
       "      <td>454</td>\n",
       "      <td>14</td>\n",
       "      <td>1115</td>\n",
       "      <td>4771</td>\n",
       "      <td>339</td>\n",
       "      <td>1</td>\n",
       "      <td>0</td>\n",
       "      <td>0</td>\n",
       "      <td>1</td>\n",
       "      <td>6</td>\n",
       "    </tr>\n",
       "    <tr>\n",
       "      <th>1017205</th>\n",
       "      <td>1114</td>\n",
       "      <td>1115</td>\n",
       "      <td>454</td>\n",
       "      <td>14</td>\n",
       "      <td>1115</td>\n",
       "      <td>4540</td>\n",
       "      <td>326</td>\n",
       "      <td>1</td>\n",
       "      <td>0</td>\n",
       "      <td>0</td>\n",
       "      <td>1</td>\n",
       "      <td>5</td>\n",
       "    </tr>\n",
       "    <tr>\n",
       "      <th>1017206</th>\n",
       "      <td>1114</td>\n",
       "      <td>1115</td>\n",
       "      <td>454</td>\n",
       "      <td>14</td>\n",
       "      <td>1115</td>\n",
       "      <td>4297</td>\n",
       "      <td>300</td>\n",
       "      <td>1</td>\n",
       "      <td>0</td>\n",
       "      <td>0</td>\n",
       "      <td>1</td>\n",
       "      <td>4</td>\n",
       "    </tr>\n",
       "    <tr>\n",
       "      <th>1017207</th>\n",
       "      <td>1114</td>\n",
       "      <td>1115</td>\n",
       "      <td>454</td>\n",
       "      <td>14</td>\n",
       "      <td>1115</td>\n",
       "      <td>3697</td>\n",
       "      <td>305</td>\n",
       "      <td>1</td>\n",
       "      <td>0</td>\n",
       "      <td>0</td>\n",
       "      <td>1</td>\n",
       "      <td>3</td>\n",
       "    </tr>\n",
       "    <tr>\n",
       "      <th>1017208</th>\n",
       "      <td>1114</td>\n",
       "      <td>1115</td>\n",
       "      <td>454</td>\n",
       "      <td>14</td>\n",
       "      <td>1115</td>\n",
       "      <td>0</td>\n",
       "      <td>0</td>\n",
       "      <td>0</td>\n",
       "      <td>0</td>\n",
       "      <td>1</td>\n",
       "      <td>1</td>\n",
       "      <td>2</td>\n",
       "    </tr>\n",
       "  </tbody>\n",
       "</table>\n",
       "</div>"
      ],
      "text/plain": [
       "         Unnamed: 0  product type  cost per unit  Time for delivery  \\\n",
       "1017204        1114          1115            454                 14   \n",
       "1017205        1114          1115            454                 14   \n",
       "1017206        1114          1115            454                 14   \n",
       "1017207        1114          1115            454                 14   \n",
       "1017208        1114          1115            454                 14   \n",
       "\n",
       "         Product type  Revenue  No of purchases  store status  \\\n",
       "1017204          1115     4771              339             1   \n",
       "1017205          1115     4540              326             1   \n",
       "1017206          1115     4297              300             1   \n",
       "1017207          1115     3697              305             1   \n",
       "1017208          1115        0                0             0   \n",
       "\n",
       "         Promotion applied  Generic Holiday  Education Holiday  DayOfWeek  \n",
       "1017204                  0                0                  1          6  \n",
       "1017205                  0                0                  1          5  \n",
       "1017206                  0                0                  1          4  \n",
       "1017207                  0                0                  1          3  \n",
       "1017208                  0                1                  1          2  "
      ]
     },
     "execution_count": 42,
     "metadata": {},
     "output_type": "execute_result"
    }
   ],
   "source": [
    "data_full.tail()"
   ]
  },
  {
   "cell_type": "code",
   "execution_count": 43,
   "metadata": {},
   "outputs": [],
   "source": [
    "data_full.drop([\"Unnamed: 0\", \"Product type\"], axis = 1, inplace = True)"
   ]
  },
  {
   "cell_type": "code",
   "execution_count": 44,
   "metadata": {},
   "outputs": [
    {
     "data": {
      "text/html": [
       "<div>\n",
       "<style scoped>\n",
       "    .dataframe tbody tr th:only-of-type {\n",
       "        vertical-align: middle;\n",
       "    }\n",
       "\n",
       "    .dataframe tbody tr th {\n",
       "        vertical-align: top;\n",
       "    }\n",
       "\n",
       "    .dataframe thead th {\n",
       "        text-align: right;\n",
       "    }\n",
       "</style>\n",
       "<table border=\"1\" class=\"dataframe\">\n",
       "  <thead>\n",
       "    <tr style=\"text-align: right;\">\n",
       "      <th></th>\n",
       "      <th>product type</th>\n",
       "      <th>cost per unit</th>\n",
       "      <th>Time for delivery</th>\n",
       "      <th>Revenue</th>\n",
       "      <th>No of purchases</th>\n",
       "      <th>store status</th>\n",
       "      <th>Promotion applied</th>\n",
       "      <th>Generic Holiday</th>\n",
       "      <th>Education Holiday</th>\n",
       "      <th>DayOfWeek</th>\n",
       "    </tr>\n",
       "  </thead>\n",
       "  <tbody>\n",
       "    <tr>\n",
       "      <th>0</th>\n",
       "      <td>1</td>\n",
       "      <td>457</td>\n",
       "      <td>11</td>\n",
       "      <td>14190</td>\n",
       "      <td>890</td>\n",
       "      <td>1</td>\n",
       "      <td>1</td>\n",
       "      <td>0</td>\n",
       "      <td>1</td>\n",
       "      <td>5</td>\n",
       "    </tr>\n",
       "    <tr>\n",
       "      <th>1</th>\n",
       "      <td>1</td>\n",
       "      <td>457</td>\n",
       "      <td>11</td>\n",
       "      <td>5020</td>\n",
       "      <td>546</td>\n",
       "      <td>1</td>\n",
       "      <td>1</td>\n",
       "      <td>0</td>\n",
       "      <td>1</td>\n",
       "      <td>4</td>\n",
       "    </tr>\n",
       "    <tr>\n",
       "      <th>2</th>\n",
       "      <td>1</td>\n",
       "      <td>457</td>\n",
       "      <td>11</td>\n",
       "      <td>4782</td>\n",
       "      <td>523</td>\n",
       "      <td>1</td>\n",
       "      <td>1</td>\n",
       "      <td>0</td>\n",
       "      <td>1</td>\n",
       "      <td>3</td>\n",
       "    </tr>\n",
       "    <tr>\n",
       "      <th>3</th>\n",
       "      <td>1</td>\n",
       "      <td>457</td>\n",
       "      <td>11</td>\n",
       "      <td>5011</td>\n",
       "      <td>560</td>\n",
       "      <td>1</td>\n",
       "      <td>1</td>\n",
       "      <td>0</td>\n",
       "      <td>1</td>\n",
       "      <td>2</td>\n",
       "    </tr>\n",
       "    <tr>\n",
       "      <th>4</th>\n",
       "      <td>1</td>\n",
       "      <td>457</td>\n",
       "      <td>11</td>\n",
       "      <td>6102</td>\n",
       "      <td>612</td>\n",
       "      <td>1</td>\n",
       "      <td>1</td>\n",
       "      <td>0</td>\n",
       "      <td>1</td>\n",
       "      <td>1</td>\n",
       "    </tr>\n",
       "  </tbody>\n",
       "</table>\n",
       "</div>"
      ],
      "text/plain": [
       "   product type  cost per unit  Time for delivery  Revenue  No of purchases  \\\n",
       "0             1            457                 11    14190              890   \n",
       "1             1            457                 11     5020              546   \n",
       "2             1            457                 11     4782              523   \n",
       "3             1            457                 11     5011              560   \n",
       "4             1            457                 11     6102              612   \n",
       "\n",
       "   store status  Promotion applied  Generic Holiday  Education Holiday  \\\n",
       "0             1                  1                0                  1   \n",
       "1             1                  1                0                  1   \n",
       "2             1                  1                0                  1   \n",
       "3             1                  1                0                  1   \n",
       "4             1                  1                0                  1   \n",
       "\n",
       "   DayOfWeek  \n",
       "0          5  \n",
       "1          4  \n",
       "2          3  \n",
       "3          2  \n",
       "4          1  "
      ]
     },
     "execution_count": 44,
     "metadata": {},
     "output_type": "execute_result"
    }
   ],
   "source": [
    "data_full.head()"
   ]
  },
  {
   "cell_type": "code",
   "execution_count": 45,
   "metadata": {},
   "outputs": [
    {
     "data": {
      "text/plain": [
       "(1017209, 10)"
      ]
     },
     "execution_count": 45,
     "metadata": {},
     "output_type": "execute_result"
    }
   ],
   "source": [
    "data_full.shape"
   ]
  },
  {
   "cell_type": "code",
   "execution_count": 46,
   "metadata": {
    "scrolled": false
   },
   "outputs": [
    {
     "data": {
      "text/plain": [
       "Index(['product type', 'cost per unit', 'Time for delivery', 'Revenue',\n",
       "       'No of purchases', 'store status', 'Promotion applied',\n",
       "       'Generic Holiday', 'Education Holiday', 'DayOfWeek'],\n",
       "      dtype='object')"
      ]
     },
     "execution_count": 46,
     "metadata": {},
     "output_type": "execute_result"
    }
   ],
   "source": [
    "data_full.columns"
   ]
  },
  {
   "cell_type": "markdown",
   "metadata": {},
   "source": [
    "### Aggregating data based on \"Day of Week\""
   ]
  },
  {
   "cell_type": "code",
   "execution_count": 82,
   "metadata": {},
   "outputs": [
    {
     "data": {
      "text/html": [
       "<div>\n",
       "<style scoped>\n",
       "    .dataframe tbody tr th:only-of-type {\n",
       "        vertical-align: middle;\n",
       "    }\n",
       "\n",
       "    .dataframe tbody tr th {\n",
       "        vertical-align: top;\n",
       "    }\n",
       "\n",
       "    .dataframe thead th {\n",
       "        text-align: right;\n",
       "    }\n",
       "</style>\n",
       "<table border=\"1\" class=\"dataframe\">\n",
       "  <thead>\n",
       "    <tr style=\"text-align: right;\">\n",
       "      <th></th>\n",
       "      <th>Revenue</th>\n",
       "      <th>No of purchases</th>\n",
       "      <th>cost per unit</th>\n",
       "      <th>Time for delivery</th>\n",
       "    </tr>\n",
       "    <tr>\n",
       "      <th>DayOfWeek</th>\n",
       "      <th></th>\n",
       "      <th></th>\n",
       "      <th></th>\n",
       "      <th></th>\n",
       "    </tr>\n",
       "  </thead>\n",
       "  <tbody>\n",
       "    <tr>\n",
       "      <th>1</th>\n",
       "      <td>7809.044510</td>\n",
       "      <td>813.065791</td>\n",
       "      <td>1012.840227</td>\n",
       "      <td>9.543619</td>\n",
       "    </tr>\n",
       "    <tr>\n",
       "      <th>2</th>\n",
       "      <td>7005.244467</td>\n",
       "      <td>760.984615</td>\n",
       "      <td>1012.843915</td>\n",
       "      <td>9.543642</td>\n",
       "    </tr>\n",
       "    <tr>\n",
       "      <th>3</th>\n",
       "      <td>6555.884138</td>\n",
       "      <td>721.639666</td>\n",
       "      <td>1012.843559</td>\n",
       "      <td>9.543652</td>\n",
       "    </tr>\n",
       "    <tr>\n",
       "      <th>4</th>\n",
       "      <td>6247.575913</td>\n",
       "      <td>697.541486</td>\n",
       "      <td>1012.839425</td>\n",
       "      <td>9.543611</td>\n",
       "    </tr>\n",
       "    <tr>\n",
       "      <th>5</th>\n",
       "      <td>6723.368185</td>\n",
       "      <td>743.139765</td>\n",
       "      <td>1012.839425</td>\n",
       "      <td>9.543611</td>\n",
       "    </tr>\n",
       "    <tr>\n",
       "      <th>6</th>\n",
       "      <td>5847.562599</td>\n",
       "      <td>657.112237</td>\n",
       "      <td>1012.840227</td>\n",
       "      <td>9.543619</td>\n",
       "    </tr>\n",
       "    <tr>\n",
       "      <th>7</th>\n",
       "      <td>204.183189</td>\n",
       "      <td>35.786817</td>\n",
       "      <td>1012.840227</td>\n",
       "      <td>9.543619</td>\n",
       "    </tr>\n",
       "  </tbody>\n",
       "</table>\n",
       "</div>"
      ],
      "text/plain": [
       "               Revenue  No of purchases  cost per unit  Time for delivery\n",
       "DayOfWeek                                                                \n",
       "1          7809.044510       813.065791    1012.840227           9.543619\n",
       "2          7005.244467       760.984615    1012.843915           9.543642\n",
       "3          6555.884138       721.639666    1012.843559           9.543652\n",
       "4          6247.575913       697.541486    1012.839425           9.543611\n",
       "5          6723.368185       743.139765    1012.839425           9.543611\n",
       "6          5847.562599       657.112237    1012.840227           9.543619\n",
       "7           204.183189        35.786817    1012.840227           9.543619"
      ]
     },
     "execution_count": 82,
     "metadata": {},
     "output_type": "execute_result"
    }
   ],
   "source": [
    "data_full.groupby(by=[\"DayOfWeek\"])[[\"Revenue\",\"No of purchases\",'cost per unit', 'Time for delivery']].mean()"
   ]
  },
  {
   "cell_type": "markdown",
   "metadata": {},
   "source": [
    "### Adding column \"Number of inventory\" by dividing \"Revenue\" and \"Cost per unit\" with 10% buffer"
   ]
  },
  {
   "cell_type": "code",
   "execution_count": 89,
   "metadata": {},
   "outputs": [],
   "source": [
    "data_full[\"No_of_inventory\"] = (data_full[\"Revenue\"] / data_full[\"cost per unit\"])*1.10"
   ]
  },
  {
   "cell_type": "code",
   "execution_count": 92,
   "metadata": {},
   "outputs": [],
   "source": [
    "data_full[\"No_of_inventory\"] = data_full[\"No_of_inventory\"].astype(int)"
   ]
  },
  {
   "cell_type": "code",
   "execution_count": 93,
   "metadata": {},
   "outputs": [
    {
     "data": {
      "text/html": [
       "<div>\n",
       "<style scoped>\n",
       "    .dataframe tbody tr th:only-of-type {\n",
       "        vertical-align: middle;\n",
       "    }\n",
       "\n",
       "    .dataframe tbody tr th {\n",
       "        vertical-align: top;\n",
       "    }\n",
       "\n",
       "    .dataframe thead th {\n",
       "        text-align: right;\n",
       "    }\n",
       "</style>\n",
       "<table border=\"1\" class=\"dataframe\">\n",
       "  <thead>\n",
       "    <tr style=\"text-align: right;\">\n",
       "      <th></th>\n",
       "      <th>product type</th>\n",
       "      <th>cost per unit</th>\n",
       "      <th>Time for delivery</th>\n",
       "      <th>Revenue</th>\n",
       "      <th>No of purchases</th>\n",
       "      <th>store status</th>\n",
       "      <th>Promotion applied</th>\n",
       "      <th>Generic Holiday</th>\n",
       "      <th>Education Holiday</th>\n",
       "      <th>DayOfWeek</th>\n",
       "      <th>No_of_inventory</th>\n",
       "    </tr>\n",
       "  </thead>\n",
       "  <tbody>\n",
       "    <tr>\n",
       "      <th>0</th>\n",
       "      <td>1</td>\n",
       "      <td>457</td>\n",
       "      <td>11</td>\n",
       "      <td>14190</td>\n",
       "      <td>890</td>\n",
       "      <td>1</td>\n",
       "      <td>1</td>\n",
       "      <td>0</td>\n",
       "      <td>1</td>\n",
       "      <td>5</td>\n",
       "      <td>34</td>\n",
       "    </tr>\n",
       "    <tr>\n",
       "      <th>1</th>\n",
       "      <td>1</td>\n",
       "      <td>457</td>\n",
       "      <td>11</td>\n",
       "      <td>5020</td>\n",
       "      <td>546</td>\n",
       "      <td>1</td>\n",
       "      <td>1</td>\n",
       "      <td>0</td>\n",
       "      <td>1</td>\n",
       "      <td>4</td>\n",
       "      <td>12</td>\n",
       "    </tr>\n",
       "    <tr>\n",
       "      <th>2</th>\n",
       "      <td>1</td>\n",
       "      <td>457</td>\n",
       "      <td>11</td>\n",
       "      <td>4782</td>\n",
       "      <td>523</td>\n",
       "      <td>1</td>\n",
       "      <td>1</td>\n",
       "      <td>0</td>\n",
       "      <td>1</td>\n",
       "      <td>3</td>\n",
       "      <td>11</td>\n",
       "    </tr>\n",
       "    <tr>\n",
       "      <th>3</th>\n",
       "      <td>1</td>\n",
       "      <td>457</td>\n",
       "      <td>11</td>\n",
       "      <td>5011</td>\n",
       "      <td>560</td>\n",
       "      <td>1</td>\n",
       "      <td>1</td>\n",
       "      <td>0</td>\n",
       "      <td>1</td>\n",
       "      <td>2</td>\n",
       "      <td>12</td>\n",
       "    </tr>\n",
       "    <tr>\n",
       "      <th>4</th>\n",
       "      <td>1</td>\n",
       "      <td>457</td>\n",
       "      <td>11</td>\n",
       "      <td>6102</td>\n",
       "      <td>612</td>\n",
       "      <td>1</td>\n",
       "      <td>1</td>\n",
       "      <td>0</td>\n",
       "      <td>1</td>\n",
       "      <td>1</td>\n",
       "      <td>14</td>\n",
       "    </tr>\n",
       "  </tbody>\n",
       "</table>\n",
       "</div>"
      ],
      "text/plain": [
       "   product type  cost per unit  Time for delivery  Revenue  No of purchases  \\\n",
       "0             1            457                 11    14190              890   \n",
       "1             1            457                 11     5020              546   \n",
       "2             1            457                 11     4782              523   \n",
       "3             1            457                 11     5011              560   \n",
       "4             1            457                 11     6102              612   \n",
       "\n",
       "   store status  Promotion applied  Generic Holiday  Education Holiday  \\\n",
       "0             1                  1                0                  1   \n",
       "1             1                  1                0                  1   \n",
       "2             1                  1                0                  1   \n",
       "3             1                  1                0                  1   \n",
       "4             1                  1                0                  1   \n",
       "\n",
       "   DayOfWeek  No_of_inventory  \n",
       "0          5               34  \n",
       "1          4               12  \n",
       "2          3               11  \n",
       "3          2               12  \n",
       "4          1               14  "
      ]
     },
     "execution_count": 93,
     "metadata": {},
     "output_type": "execute_result"
    }
   ],
   "source": [
    "data_full.head()"
   ]
  },
  {
   "cell_type": "code",
   "execution_count": 95,
   "metadata": {},
   "outputs": [
    {
     "data": {
      "text/html": [
       "<div>\n",
       "<style scoped>\n",
       "    .dataframe tbody tr th:only-of-type {\n",
       "        vertical-align: middle;\n",
       "    }\n",
       "\n",
       "    .dataframe tbody tr th {\n",
       "        vertical-align: top;\n",
       "    }\n",
       "\n",
       "    .dataframe thead th {\n",
       "        text-align: right;\n",
       "    }\n",
       "</style>\n",
       "<table border=\"1\" class=\"dataframe\">\n",
       "  <thead>\n",
       "    <tr style=\"text-align: right;\">\n",
       "      <th></th>\n",
       "      <th>Revenue</th>\n",
       "      <th>No_of_inventory</th>\n",
       "      <th>cost per unit</th>\n",
       "      <th>Time for delivery</th>\n",
       "    </tr>\n",
       "    <tr>\n",
       "      <th>DayOfWeek</th>\n",
       "      <th></th>\n",
       "      <th></th>\n",
       "      <th></th>\n",
       "      <th></th>\n",
       "    </tr>\n",
       "  </thead>\n",
       "  <tbody>\n",
       "    <tr>\n",
       "      <th>1</th>\n",
       "      <td>7809.044510</td>\n",
       "      <td>15.694472</td>\n",
       "      <td>1012.840227</td>\n",
       "      <td>9.543619</td>\n",
       "    </tr>\n",
       "    <tr>\n",
       "      <th>2</th>\n",
       "      <td>7005.244467</td>\n",
       "      <td>14.032664</td>\n",
       "      <td>1012.843915</td>\n",
       "      <td>9.543642</td>\n",
       "    </tr>\n",
       "    <tr>\n",
       "      <th>3</th>\n",
       "      <td>6555.884138</td>\n",
       "      <td>13.126283</td>\n",
       "      <td>1012.843559</td>\n",
       "      <td>9.543652</td>\n",
       "    </tr>\n",
       "    <tr>\n",
       "      <th>4</th>\n",
       "      <td>6247.575913</td>\n",
       "      <td>12.523144</td>\n",
       "      <td>1012.839425</td>\n",
       "      <td>9.543611</td>\n",
       "    </tr>\n",
       "    <tr>\n",
       "      <th>5</th>\n",
       "      <td>6723.368185</td>\n",
       "      <td>13.535116</td>\n",
       "      <td>1012.839425</td>\n",
       "      <td>9.543611</td>\n",
       "    </tr>\n",
       "    <tr>\n",
       "      <th>6</th>\n",
       "      <td>5847.562599</td>\n",
       "      <td>11.881082</td>\n",
       "      <td>1012.840227</td>\n",
       "      <td>9.543619</td>\n",
       "    </tr>\n",
       "    <tr>\n",
       "      <th>7</th>\n",
       "      <td>204.183189</td>\n",
       "      <td>0.468113</td>\n",
       "      <td>1012.840227</td>\n",
       "      <td>9.543619</td>\n",
       "    </tr>\n",
       "  </tbody>\n",
       "</table>\n",
       "</div>"
      ],
      "text/plain": [
       "               Revenue  No_of_inventory  cost per unit  Time for delivery\n",
       "DayOfWeek                                                                \n",
       "1          7809.044510        15.694472    1012.840227           9.543619\n",
       "2          7005.244467        14.032664    1012.843915           9.543642\n",
       "3          6555.884138        13.126283    1012.843559           9.543652\n",
       "4          6247.575913        12.523144    1012.839425           9.543611\n",
       "5          6723.368185        13.535116    1012.839425           9.543611\n",
       "6          5847.562599        11.881082    1012.840227           9.543619\n",
       "7           204.183189         0.468113    1012.840227           9.543619"
      ]
     },
     "execution_count": 95,
     "metadata": {},
     "output_type": "execute_result"
    }
   ],
   "source": [
    "data_full.groupby(by=[\"DayOfWeek\"])[[\"Revenue\",\"No_of_inventory\",'cost per unit', 'Time for delivery']].mean()"
   ]
  },
  {
   "cell_type": "code",
   "execution_count": 96,
   "metadata": {},
   "outputs": [
    {
     "name": "stdout",
     "output_type": "stream",
     "text": [
      "<class 'pandas.core.frame.DataFrame'>\n",
      "Int64Index: 1017209 entries, 0 to 1017208\n",
      "Data columns (total 11 columns):\n",
      " #   Column             Non-Null Count    Dtype\n",
      "---  ------             --------------    -----\n",
      " 0   product type       1017209 non-null  int64\n",
      " 1   cost per unit      1017209 non-null  int64\n",
      " 2   Time for delivery  1017209 non-null  int64\n",
      " 3   Revenue            1017209 non-null  int64\n",
      " 4   No of purchases    1017209 non-null  int64\n",
      " 5   store status       1017209 non-null  uint8\n",
      " 6   Promotion applied  1017209 non-null  int64\n",
      " 7   Generic Holiday    1017209 non-null  int32\n",
      " 8   Education Holiday  1017209 non-null  int64\n",
      " 9   DayOfWeek          1017209 non-null  int64\n",
      " 10  No_of_inventory    1017209 non-null  int32\n",
      "dtypes: int32(2), int64(8), uint8(1)\n",
      "memory usage: 78.6 MB\n"
     ]
    }
   ],
   "source": [
    "data_full.info()"
   ]
  },
  {
   "cell_type": "markdown",
   "metadata": {},
   "source": [
    "### Checking the product types with highest and lowest \"Revenue\""
   ]
  },
  {
   "cell_type": "code",
   "execution_count": 103,
   "metadata": {},
   "outputs": [],
   "source": [
    "# Top 10 product types with highest revenue"
   ]
  },
  {
   "cell_type": "code",
   "execution_count": 101,
   "metadata": {
    "scrolled": true
   },
   "outputs": [
    {
     "data": {
      "text/html": [
       "<div>\n",
       "<style scoped>\n",
       "    .dataframe tbody tr th:only-of-type {\n",
       "        vertical-align: middle;\n",
       "    }\n",
       "\n",
       "    .dataframe tbody tr th {\n",
       "        vertical-align: top;\n",
       "    }\n",
       "\n",
       "    .dataframe thead th {\n",
       "        text-align: right;\n",
       "    }\n",
       "</style>\n",
       "<table border=\"1\" class=\"dataframe\">\n",
       "  <thead>\n",
       "    <tr style=\"text-align: right;\">\n",
       "      <th></th>\n",
       "      <th>cost per unit</th>\n",
       "      <th>Time for delivery</th>\n",
       "      <th>Revenue</th>\n",
       "      <th>No_of_inventory</th>\n",
       "    </tr>\n",
       "    <tr>\n",
       "      <th>product type</th>\n",
       "      <th></th>\n",
       "      <th></th>\n",
       "      <th></th>\n",
       "      <th></th>\n",
       "    </tr>\n",
       "  </thead>\n",
       "  <tbody>\n",
       "    <tr>\n",
       "      <th>262</th>\n",
       "      <td>827.0</td>\n",
       "      <td>6.0</td>\n",
       "      <td>20718.515924</td>\n",
       "      <td>27.065817</td>\n",
       "    </tr>\n",
       "    <tr>\n",
       "      <th>817</th>\n",
       "      <td>1385.0</td>\n",
       "      <td>12.0</td>\n",
       "      <td>18108.139066</td>\n",
       "      <td>13.966030</td>\n",
       "    </tr>\n",
       "    <tr>\n",
       "      <th>562</th>\n",
       "      <td>112.0</td>\n",
       "      <td>8.0</td>\n",
       "      <td>17969.556263</td>\n",
       "      <td>175.983015</td>\n",
       "    </tr>\n",
       "    <tr>\n",
       "      <th>1114</th>\n",
       "      <td>1232.0</td>\n",
       "      <td>13.0</td>\n",
       "      <td>17200.196391</td>\n",
       "      <td>14.938429</td>\n",
       "    </tr>\n",
       "    <tr>\n",
       "      <th>251</th>\n",
       "      <td>1627.0</td>\n",
       "      <td>9.0</td>\n",
       "      <td>15814.087049</td>\n",
       "      <td>10.294055</td>\n",
       "    </tr>\n",
       "    <tr>\n",
       "      <th>842</th>\n",
       "      <td>326.0</td>\n",
       "      <td>9.0</td>\n",
       "      <td>15242.114776</td>\n",
       "      <td>51.027704</td>\n",
       "    </tr>\n",
       "    <tr>\n",
       "      <th>513</th>\n",
       "      <td>1781.0</td>\n",
       "      <td>13.0</td>\n",
       "      <td>15129.942675</td>\n",
       "      <td>8.917197</td>\n",
       "    </tr>\n",
       "    <tr>\n",
       "      <th>788</th>\n",
       "      <td>1578.0</td>\n",
       "      <td>11.0</td>\n",
       "      <td>14949.194268</td>\n",
       "      <td>10.023355</td>\n",
       "    </tr>\n",
       "    <tr>\n",
       "      <th>733</th>\n",
       "      <td>1034.0</td>\n",
       "      <td>10.0</td>\n",
       "      <td>14933.288747</td>\n",
       "      <td>15.401274</td>\n",
       "    </tr>\n",
       "    <tr>\n",
       "      <th>383</th>\n",
       "      <td>1599.0</td>\n",
       "      <td>8.0</td>\n",
       "      <td>14320.466030</td>\n",
       "      <td>9.458599</td>\n",
       "    </tr>\n",
       "  </tbody>\n",
       "</table>\n",
       "</div>"
      ],
      "text/plain": [
       "              cost per unit  Time for delivery       Revenue  No_of_inventory\n",
       "product type                                                                 \n",
       "262                   827.0                6.0  20718.515924        27.065817\n",
       "817                  1385.0               12.0  18108.139066        13.966030\n",
       "562                   112.0                8.0  17969.556263       175.983015\n",
       "1114                 1232.0               13.0  17200.196391        14.938429\n",
       "251                  1627.0                9.0  15814.087049        10.294055\n",
       "842                   326.0                9.0  15242.114776        51.027704\n",
       "513                  1781.0               13.0  15129.942675         8.917197\n",
       "788                  1578.0               11.0  14949.194268        10.023355\n",
       "733                  1034.0               10.0  14933.288747        15.401274\n",
       "383                  1599.0                8.0  14320.466030         9.458599"
      ]
     },
     "execution_count": 101,
     "metadata": {},
     "output_type": "execute_result"
    }
   ],
   "source": [
    "data_full.groupby([\"product type\"])[['cost per unit', 'Time for delivery', 'Revenue','No_of_inventory']].mean().sort_values(\"Revenue\", ascending = False).head(10)"
   ]
  },
  {
   "cell_type": "code",
   "execution_count": 105,
   "metadata": {},
   "outputs": [],
   "source": [
    "# Top 10 product types with lowest revenue"
   ]
  },
  {
   "cell_type": "code",
   "execution_count": 102,
   "metadata": {},
   "outputs": [
    {
     "data": {
      "text/html": [
       "<div>\n",
       "<style scoped>\n",
       "    .dataframe tbody tr th:only-of-type {\n",
       "        vertical-align: middle;\n",
       "    }\n",
       "\n",
       "    .dataframe tbody tr th {\n",
       "        vertical-align: top;\n",
       "    }\n",
       "\n",
       "    .dataframe thead th {\n",
       "        text-align: right;\n",
       "    }\n",
       "</style>\n",
       "<table border=\"1\" class=\"dataframe\">\n",
       "  <thead>\n",
       "    <tr style=\"text-align: right;\">\n",
       "      <th></th>\n",
       "      <th>cost per unit</th>\n",
       "      <th>Time for delivery</th>\n",
       "      <th>Revenue</th>\n",
       "      <th>No_of_inventory</th>\n",
       "    </tr>\n",
       "    <tr>\n",
       "      <th>product type</th>\n",
       "      <th></th>\n",
       "      <th></th>\n",
       "      <th></th>\n",
       "      <th></th>\n",
       "    </tr>\n",
       "  </thead>\n",
       "  <tbody>\n",
       "    <tr>\n",
       "      <th>307</th>\n",
       "      <td>1058.0</td>\n",
       "      <td>8.0</td>\n",
       "      <td>2244.503185</td>\n",
       "      <td>1.935244</td>\n",
       "    </tr>\n",
       "    <tr>\n",
       "      <th>543</th>\n",
       "      <td>203.0</td>\n",
       "      <td>5.0</td>\n",
       "      <td>2313.468153</td>\n",
       "      <td>12.124204</td>\n",
       "    </tr>\n",
       "    <tr>\n",
       "      <th>198</th>\n",
       "      <td>755.0</td>\n",
       "      <td>10.0</td>\n",
       "      <td>2407.933121</td>\n",
       "      <td>3.109342</td>\n",
       "    </tr>\n",
       "    <tr>\n",
       "      <th>208</th>\n",
       "      <td>771.0</td>\n",
       "      <td>14.0</td>\n",
       "      <td>2443.791932</td>\n",
       "      <td>3.060510</td>\n",
       "    </tr>\n",
       "    <tr>\n",
       "      <th>841</th>\n",
       "      <td>372.0</td>\n",
       "      <td>7.0</td>\n",
       "      <td>2461.395966</td>\n",
       "      <td>6.871550</td>\n",
       "    </tr>\n",
       "    <tr>\n",
       "      <th>254</th>\n",
       "      <td>378.0</td>\n",
       "      <td>12.0</td>\n",
       "      <td>2485.839703</td>\n",
       "      <td>6.809979</td>\n",
       "    </tr>\n",
       "    <tr>\n",
       "      <th>972</th>\n",
       "      <td>416.0</td>\n",
       "      <td>10.0</td>\n",
       "      <td>2550.559448</td>\n",
       "      <td>6.368365</td>\n",
       "    </tr>\n",
       "    <tr>\n",
       "      <th>794</th>\n",
       "      <td>117.0</td>\n",
       "      <td>5.0</td>\n",
       "      <td>2553.475584</td>\n",
       "      <td>23.597665</td>\n",
       "    </tr>\n",
       "    <tr>\n",
       "      <th>219</th>\n",
       "      <td>1742.0</td>\n",
       "      <td>9.0</td>\n",
       "      <td>2591.467091</td>\n",
       "      <td>1.233546</td>\n",
       "    </tr>\n",
       "    <tr>\n",
       "      <th>210</th>\n",
       "      <td>1984.0</td>\n",
       "      <td>10.0</td>\n",
       "      <td>2641.309979</td>\n",
       "      <td>1.082803</td>\n",
       "    </tr>\n",
       "  </tbody>\n",
       "</table>\n",
       "</div>"
      ],
      "text/plain": [
       "              cost per unit  Time for delivery      Revenue  No_of_inventory\n",
       "product type                                                                \n",
       "307                  1058.0                8.0  2244.503185         1.935244\n",
       "543                   203.0                5.0  2313.468153        12.124204\n",
       "198                   755.0               10.0  2407.933121         3.109342\n",
       "208                   771.0               14.0  2443.791932         3.060510\n",
       "841                   372.0                7.0  2461.395966         6.871550\n",
       "254                   378.0               12.0  2485.839703         6.809979\n",
       "972                   416.0               10.0  2550.559448         6.368365\n",
       "794                   117.0                5.0  2553.475584        23.597665\n",
       "219                  1742.0                9.0  2591.467091         1.233546\n",
       "210                  1984.0               10.0  2641.309979         1.082803"
      ]
     },
     "execution_count": 102,
     "metadata": {},
     "output_type": "execute_result"
    }
   ],
   "source": [
    "data_full.groupby([\"product type\"])[['cost per unit', 'Time for delivery', 'Revenue','No_of_inventory']].mean().sort_values(\"Revenue\", ascending = True).head(10)"
   ]
  },
  {
   "cell_type": "code",
   "execution_count": 97,
   "metadata": {
    "scrolled": true
   },
   "outputs": [
    {
     "data": {
      "text/plain": [
       "Index(['product type', 'cost per unit', 'Time for delivery', 'Revenue',\n",
       "       'No of purchases', 'store status', 'Promotion applied',\n",
       "       'Generic Holiday', 'Education Holiday', 'DayOfWeek', 'No_of_inventory'],\n",
       "      dtype='object')"
      ]
     },
     "execution_count": 97,
     "metadata": {},
     "output_type": "execute_result"
    }
   ],
   "source": [
    "data_full.columns"
   ]
  },
  {
   "cell_type": "markdown",
   "metadata": {},
   "source": [
    "### Seperating input and output variables"
   ]
  },
  {
   "cell_type": "code",
   "execution_count": 107,
   "metadata": {},
   "outputs": [],
   "source": [
    "X = data_full.drop(columns= ['No of purchases','Education Holiday','No_of_inventory'])\n",
    "y = data_full['No_of_inventory']"
   ]
  },
  {
   "cell_type": "code",
   "execution_count": 108,
   "metadata": {},
   "outputs": [
    {
     "data": {
      "text/html": [
       "<div>\n",
       "<style scoped>\n",
       "    .dataframe tbody tr th:only-of-type {\n",
       "        vertical-align: middle;\n",
       "    }\n",
       "\n",
       "    .dataframe tbody tr th {\n",
       "        vertical-align: top;\n",
       "    }\n",
       "\n",
       "    .dataframe thead th {\n",
       "        text-align: right;\n",
       "    }\n",
       "</style>\n",
       "<table border=\"1\" class=\"dataframe\">\n",
       "  <thead>\n",
       "    <tr style=\"text-align: right;\">\n",
       "      <th></th>\n",
       "      <th>product type</th>\n",
       "      <th>cost per unit</th>\n",
       "      <th>Time for delivery</th>\n",
       "      <th>Revenue</th>\n",
       "      <th>store status</th>\n",
       "      <th>Promotion applied</th>\n",
       "      <th>Generic Holiday</th>\n",
       "      <th>DayOfWeek</th>\n",
       "    </tr>\n",
       "  </thead>\n",
       "  <tbody>\n",
       "    <tr>\n",
       "      <th>0</th>\n",
       "      <td>1</td>\n",
       "      <td>457</td>\n",
       "      <td>11</td>\n",
       "      <td>14190</td>\n",
       "      <td>1</td>\n",
       "      <td>1</td>\n",
       "      <td>0</td>\n",
       "      <td>5</td>\n",
       "    </tr>\n",
       "    <tr>\n",
       "      <th>1</th>\n",
       "      <td>1</td>\n",
       "      <td>457</td>\n",
       "      <td>11</td>\n",
       "      <td>5020</td>\n",
       "      <td>1</td>\n",
       "      <td>1</td>\n",
       "      <td>0</td>\n",
       "      <td>4</td>\n",
       "    </tr>\n",
       "    <tr>\n",
       "      <th>2</th>\n",
       "      <td>1</td>\n",
       "      <td>457</td>\n",
       "      <td>11</td>\n",
       "      <td>4782</td>\n",
       "      <td>1</td>\n",
       "      <td>1</td>\n",
       "      <td>0</td>\n",
       "      <td>3</td>\n",
       "    </tr>\n",
       "    <tr>\n",
       "      <th>3</th>\n",
       "      <td>1</td>\n",
       "      <td>457</td>\n",
       "      <td>11</td>\n",
       "      <td>5011</td>\n",
       "      <td>1</td>\n",
       "      <td>1</td>\n",
       "      <td>0</td>\n",
       "      <td>2</td>\n",
       "    </tr>\n",
       "    <tr>\n",
       "      <th>4</th>\n",
       "      <td>1</td>\n",
       "      <td>457</td>\n",
       "      <td>11</td>\n",
       "      <td>6102</td>\n",
       "      <td>1</td>\n",
       "      <td>1</td>\n",
       "      <td>0</td>\n",
       "      <td>1</td>\n",
       "    </tr>\n",
       "  </tbody>\n",
       "</table>\n",
       "</div>"
      ],
      "text/plain": [
       "   product type  cost per unit  Time for delivery  Revenue  store status  \\\n",
       "0             1            457                 11    14190             1   \n",
       "1             1            457                 11     5020             1   \n",
       "2             1            457                 11     4782             1   \n",
       "3             1            457                 11     5011             1   \n",
       "4             1            457                 11     6102             1   \n",
       "\n",
       "   Promotion applied  Generic Holiday  DayOfWeek  \n",
       "0                  1                0          5  \n",
       "1                  1                0          4  \n",
       "2                  1                0          3  \n",
       "3                  1                0          2  \n",
       "4                  1                0          1  "
      ]
     },
     "execution_count": 108,
     "metadata": {},
     "output_type": "execute_result"
    }
   ],
   "source": [
    "X.head()"
   ]
  },
  {
   "cell_type": "code",
   "execution_count": 109,
   "metadata": {},
   "outputs": [
    {
     "data": {
      "text/plain": [
       "0    34\n",
       "1    12\n",
       "2    11\n",
       "3    12\n",
       "4    14\n",
       "Name: No_of_inventory, dtype: int32"
      ]
     },
     "execution_count": 109,
     "metadata": {},
     "output_type": "execute_result"
    }
   ],
   "source": [
    "y.head()"
   ]
  },
  {
   "cell_type": "markdown",
   "metadata": {},
   "source": [
    "### Scaling the input data"
   ]
  },
  {
   "cell_type": "code",
   "execution_count": 111,
   "metadata": {},
   "outputs": [],
   "source": [
    "from sklearn.preprocessing import MinMaxScaler"
   ]
  },
  {
   "cell_type": "code",
   "execution_count": 112,
   "metadata": {},
   "outputs": [],
   "source": [
    "scaler=MinMaxScaler()"
   ]
  },
  {
   "cell_type": "code",
   "execution_count": 113,
   "metadata": {},
   "outputs": [
    {
     "data": {
      "text/plain": [
       "MinMaxScaler()"
      ]
     },
     "execution_count": 113,
     "metadata": {},
     "output_type": "execute_result"
    }
   ],
   "source": [
    "scaler.fit(X)"
   ]
  },
  {
   "cell_type": "code",
   "execution_count": 114,
   "metadata": {},
   "outputs": [],
   "source": [
    "scaled_data = pd.DataFrame(scaler.transform(X),columns=X.columns)"
   ]
  },
  {
   "cell_type": "code",
   "execution_count": 115,
   "metadata": {},
   "outputs": [
    {
     "data": {
      "text/html": [
       "<div>\n",
       "<style scoped>\n",
       "    .dataframe tbody tr th:only-of-type {\n",
       "        vertical-align: middle;\n",
       "    }\n",
       "\n",
       "    .dataframe tbody tr th {\n",
       "        vertical-align: top;\n",
       "    }\n",
       "\n",
       "    .dataframe thead th {\n",
       "        text-align: right;\n",
       "    }\n",
       "</style>\n",
       "<table border=\"1\" class=\"dataframe\">\n",
       "  <thead>\n",
       "    <tr style=\"text-align: right;\">\n",
       "      <th></th>\n",
       "      <th>product type</th>\n",
       "      <th>cost per unit</th>\n",
       "      <th>Time for delivery</th>\n",
       "      <th>Revenue</th>\n",
       "      <th>store status</th>\n",
       "      <th>Promotion applied</th>\n",
       "      <th>Generic Holiday</th>\n",
       "      <th>DayOfWeek</th>\n",
       "    </tr>\n",
       "  </thead>\n",
       "  <tbody>\n",
       "    <tr>\n",
       "      <th>0</th>\n",
       "      <td>0.0</td>\n",
       "      <td>0.208825</td>\n",
       "      <td>0.666667</td>\n",
       "      <td>0.341508</td>\n",
       "      <td>1.0</td>\n",
       "      <td>1.0</td>\n",
       "      <td>0.0</td>\n",
       "      <td>0.666667</td>\n",
       "    </tr>\n",
       "    <tr>\n",
       "      <th>1</th>\n",
       "      <td>0.0</td>\n",
       "      <td>0.208825</td>\n",
       "      <td>0.666667</td>\n",
       "      <td>0.120815</td>\n",
       "      <td>1.0</td>\n",
       "      <td>1.0</td>\n",
       "      <td>0.0</td>\n",
       "      <td>0.500000</td>\n",
       "    </tr>\n",
       "    <tr>\n",
       "      <th>2</th>\n",
       "      <td>0.0</td>\n",
       "      <td>0.208825</td>\n",
       "      <td>0.666667</td>\n",
       "      <td>0.115087</td>\n",
       "      <td>1.0</td>\n",
       "      <td>1.0</td>\n",
       "      <td>0.0</td>\n",
       "      <td>0.333333</td>\n",
       "    </tr>\n",
       "    <tr>\n",
       "      <th>3</th>\n",
       "      <td>0.0</td>\n",
       "      <td>0.208825</td>\n",
       "      <td>0.666667</td>\n",
       "      <td>0.120599</td>\n",
       "      <td>1.0</td>\n",
       "      <td>1.0</td>\n",
       "      <td>0.0</td>\n",
       "      <td>0.166667</td>\n",
       "    </tr>\n",
       "    <tr>\n",
       "      <th>4</th>\n",
       "      <td>0.0</td>\n",
       "      <td>0.208825</td>\n",
       "      <td>0.666667</td>\n",
       "      <td>0.146856</td>\n",
       "      <td>1.0</td>\n",
       "      <td>1.0</td>\n",
       "      <td>0.0</td>\n",
       "      <td>0.000000</td>\n",
       "    </tr>\n",
       "  </tbody>\n",
       "</table>\n",
       "</div>"
      ],
      "text/plain": [
       "   product type  cost per unit  Time for delivery   Revenue  store status  \\\n",
       "0           0.0       0.208825           0.666667  0.341508           1.0   \n",
       "1           0.0       0.208825           0.666667  0.120815           1.0   \n",
       "2           0.0       0.208825           0.666667  0.115087           1.0   \n",
       "3           0.0       0.208825           0.666667  0.120599           1.0   \n",
       "4           0.0       0.208825           0.666667  0.146856           1.0   \n",
       "\n",
       "   Promotion applied  Generic Holiday  DayOfWeek  \n",
       "0                1.0              0.0   0.666667  \n",
       "1                1.0              0.0   0.500000  \n",
       "2                1.0              0.0   0.333333  \n",
       "3                1.0              0.0   0.166667  \n",
       "4                1.0              0.0   0.000000  "
      ]
     },
     "execution_count": 115,
     "metadata": {},
     "output_type": "execute_result"
    }
   ],
   "source": [
    "scaled_data.head()"
   ]
  },
  {
   "cell_type": "markdown",
   "metadata": {},
   "source": [
    "### Splitting the data into train and test data"
   ]
  },
  {
   "cell_type": "code",
   "execution_count": 116,
   "metadata": {},
   "outputs": [],
   "source": [
    "from sklearn.model_selection import train_test_split"
   ]
  },
  {
   "cell_type": "code",
   "execution_count": 117,
   "metadata": {},
   "outputs": [],
   "source": [
    "X_train, X_test, y_train, y_test = train_test_split(X,y, test_size = 0.2, random_state = 96)"
   ]
  },
  {
   "cell_type": "code",
   "execution_count": 122,
   "metadata": {},
   "outputs": [
    {
     "name": "stdout",
     "output_type": "stream",
     "text": [
      "(813767, 8) \n",
      " (203442, 8)\n"
     ]
    }
   ],
   "source": [
    "print(X_train.shape,\"\\n\",\n",
    "X_test.shape)\n"
   ]
  },
  {
   "cell_type": "markdown",
   "metadata": {},
   "source": [
    "### Using OLS model to check p-values"
   ]
  },
  {
   "cell_type": "code",
   "execution_count": 123,
   "metadata": {},
   "outputs": [],
   "source": [
    "import statsmodels.api as sm\n",
    "from statsmodels.api import OLS"
   ]
  },
  {
   "cell_type": "code",
   "execution_count": 124,
   "metadata": {},
   "outputs": [],
   "source": [
    "est = sm.OLS(y, X).fit()"
   ]
  },
  {
   "cell_type": "code",
   "execution_count": 125,
   "metadata": {},
   "outputs": [
    {
     "data": {
      "text/html": [
       "<table class=\"simpletable\">\n",
       "<caption>OLS Regression Results</caption>\n",
       "<tr>\n",
       "  <th>Dep. Variable:</th>     <td>No_of_inventory</td> <th>  R-squared (uncentered):</th>       <td>   0.514</td>  \n",
       "</tr>\n",
       "<tr>\n",
       "  <th>Model:</th>                   <td>OLS</td>       <th>  Adj. R-squared (uncentered):</th>  <td>   0.514</td>  \n",
       "</tr>\n",
       "<tr>\n",
       "  <th>Method:</th>             <td>Least Squares</td>  <th>  F-statistic:       </th>           <td>1.344e+05</td> \n",
       "</tr>\n",
       "<tr>\n",
       "  <th>Date:</th>             <td>Tue, 27 Apr 2021</td> <th>  Prob (F-statistic):</th>            <td>  0.00</td>   \n",
       "</tr>\n",
       "<tr>\n",
       "  <th>Time:</th>                 <td>13:27:46</td>     <th>  Log-Likelihood:    </th>          <td>-4.3032e+06</td>\n",
       "</tr>\n",
       "<tr>\n",
       "  <th>No. Observations:</th>      <td>1017209</td>     <th>  AIC:               </th>           <td>8.606e+06</td> \n",
       "</tr>\n",
       "<tr>\n",
       "  <th>Df Residuals:</th>          <td>1017201</td>     <th>  BIC:               </th>           <td>8.606e+06</td> \n",
       "</tr>\n",
       "<tr>\n",
       "  <th>Df Model:</th>              <td>     8</td>      <th>                     </th>               <td> </td>     \n",
       "</tr>\n",
       "<tr>\n",
       "  <th>Covariance Type:</th>      <td>nonrobust</td>    <th>                     </th>               <td> </td>     \n",
       "</tr>\n",
       "</table>\n",
       "<table class=\"simpletable\">\n",
       "<tr>\n",
       "          <td></td>             <th>coef</th>     <th>std err</th>      <th>t</th>      <th>P>|t|</th>  <th>[0.025</th>    <th>0.975]</th>  \n",
       "</tr>\n",
       "<tr>\n",
       "  <th>product type</th>      <td>    0.0022</td> <td> 4.93e-05</td> <td>   45.539</td> <td> 0.000</td> <td>    0.002</td> <td>    0.002</td>\n",
       "</tr>\n",
       "<tr>\n",
       "  <th>cost per unit</th>     <td>   -0.0168</td> <td> 2.81e-05</td> <td> -597.278</td> <td> 0.000</td> <td>   -0.017</td> <td>   -0.017</td>\n",
       "</tr>\n",
       "<tr>\n",
       "  <th>Time for delivery</th> <td>    0.2949</td> <td>    0.005</td> <td>   58.947</td> <td> 0.000</td> <td>    0.285</td> <td>    0.305</td>\n",
       "</tr>\n",
       "<tr>\n",
       "  <th>Revenue</th>           <td>    0.0021</td> <td> 6.27e-06</td> <td>  333.340</td> <td> 0.000</td> <td>    0.002</td> <td>    0.002</td>\n",
       "</tr>\n",
       "<tr>\n",
       "  <th>store status</th>      <td>    6.9799</td> <td>    0.058</td> <td>  120.002</td> <td> 0.000</td> <td>    6.866</td> <td>    7.094</td>\n",
       "</tr>\n",
       "<tr>\n",
       "  <th>Promotion applied</th> <td>    1.1609</td> <td>    0.039</td> <td>   29.836</td> <td> 0.000</td> <td>    1.085</td> <td>    1.237</td>\n",
       "</tr>\n",
       "<tr>\n",
       "  <th>Generic Holiday</th>   <td>    7.6305</td> <td>    0.102</td> <td>   74.642</td> <td> 0.000</td> <td>    7.430</td> <td>    7.831</td>\n",
       "</tr>\n",
       "<tr>\n",
       "  <th>DayOfWeek</th>         <td>    1.3939</td> <td>    0.008</td> <td>  175.617</td> <td> 0.000</td> <td>    1.378</td> <td>    1.409</td>\n",
       "</tr>\n",
       "</table>\n",
       "<table class=\"simpletable\">\n",
       "<tr>\n",
       "  <th>Omnibus:</th>       <td>1173594.631</td> <th>  Durbin-Watson:     </th>   <td>   0.627</td>   \n",
       "</tr>\n",
       "<tr>\n",
       "  <th>Prob(Omnibus):</th>   <td> 0.000</td>    <th>  Jarque-Bera (JB):  </th> <td>153684132.745</td>\n",
       "</tr>\n",
       "<tr>\n",
       "  <th>Skew:</th>            <td> 6.034</td>    <th>  Prob(JB):          </th>   <td>    0.00</td>   \n",
       "</tr>\n",
       "<tr>\n",
       "  <th>Kurtosis:</th>        <td>61.995</td>    <th>  Cond. No.          </th>   <td>4.40e+04</td>   \n",
       "</tr>\n",
       "</table><br/><br/>Notes:<br/>[1] R² is computed without centering (uncentered) since the model does not contain a constant.<br/>[2] Standard Errors assume that the covariance matrix of the errors is correctly specified.<br/>[3] The condition number is large, 4.4e+04. This might indicate that there are<br/>strong multicollinearity or other numerical problems."
      ],
      "text/plain": [
       "<class 'statsmodels.iolib.summary.Summary'>\n",
       "\"\"\"\n",
       "                                 OLS Regression Results                                \n",
       "=======================================================================================\n",
       "Dep. Variable:        No_of_inventory   R-squared (uncentered):                   0.514\n",
       "Model:                            OLS   Adj. R-squared (uncentered):              0.514\n",
       "Method:                 Least Squares   F-statistic:                          1.344e+05\n",
       "Date:                Tue, 27 Apr 2021   Prob (F-statistic):                        0.00\n",
       "Time:                        13:27:46   Log-Likelihood:                     -4.3032e+06\n",
       "No. Observations:             1017209   AIC:                                  8.606e+06\n",
       "Df Residuals:                 1017201   BIC:                                  8.606e+06\n",
       "Df Model:                           8                                                  \n",
       "Covariance Type:            nonrobust                                                  \n",
       "=====================================================================================\n",
       "                        coef    std err          t      P>|t|      [0.025      0.975]\n",
       "-------------------------------------------------------------------------------------\n",
       "product type          0.0022   4.93e-05     45.539      0.000       0.002       0.002\n",
       "cost per unit        -0.0168   2.81e-05   -597.278      0.000      -0.017      -0.017\n",
       "Time for delivery     0.2949      0.005     58.947      0.000       0.285       0.305\n",
       "Revenue               0.0021   6.27e-06    333.340      0.000       0.002       0.002\n",
       "store status          6.9799      0.058    120.002      0.000       6.866       7.094\n",
       "Promotion applied     1.1609      0.039     29.836      0.000       1.085       1.237\n",
       "Generic Holiday       7.6305      0.102     74.642      0.000       7.430       7.831\n",
       "DayOfWeek             1.3939      0.008    175.617      0.000       1.378       1.409\n",
       "==============================================================================\n",
       "Omnibus:                  1173594.631   Durbin-Watson:                   0.627\n",
       "Prob(Omnibus):                  0.000   Jarque-Bera (JB):        153684132.745\n",
       "Skew:                           6.034   Prob(JB):                         0.00\n",
       "Kurtosis:                      61.995   Cond. No.                     4.40e+04\n",
       "==============================================================================\n",
       "\n",
       "Notes:\n",
       "[1] R² is computed without centering (uncentered) since the model does not contain a constant.\n",
       "[2] Standard Errors assume that the covariance matrix of the errors is correctly specified.\n",
       "[3] The condition number is large, 4.4e+04. This might indicate that there are\n",
       "strong multicollinearity or other numerical problems.\n",
       "\"\"\""
      ]
     },
     "execution_count": 125,
     "metadata": {},
     "output_type": "execute_result"
    }
   ],
   "source": [
    "est.summary()"
   ]
  },
  {
   "cell_type": "markdown",
   "metadata": {},
   "source": [
    "#### All the p-values are less than 0.05, hence they are significant"
   ]
  },
  {
   "cell_type": "markdown",
   "metadata": {},
   "source": [
    "### Using Random Forest regressor to find important features"
   ]
  },
  {
   "cell_type": "code",
   "execution_count": 126,
   "metadata": {},
   "outputs": [],
   "source": [
    "from sklearn.ensemble import RandomForestRegressor "
   ]
  },
  {
   "cell_type": "code",
   "execution_count": 127,
   "metadata": {},
   "outputs": [],
   "source": [
    "regressor = RandomForestRegressor(n_estimators = 20, random_state = 0) "
   ]
  },
  {
   "cell_type": "code",
   "execution_count": 128,
   "metadata": {},
   "outputs": [
    {
     "data": {
      "text/plain": [
       "RandomForestRegressor(n_estimators=20, random_state=0)"
      ]
     },
     "execution_count": 128,
     "metadata": {},
     "output_type": "execute_result"
    }
   ],
   "source": [
    "regressor.fit(X, y) "
   ]
  },
  {
   "cell_type": "code",
   "execution_count": 129,
   "metadata": {},
   "outputs": [],
   "source": [
    "# Get numerical feature importances\n",
    "importances = list(regressor.feature_importances_)"
   ]
  },
  {
   "cell_type": "code",
   "execution_count": 130,
   "metadata": {},
   "outputs": [],
   "source": [
    "feature_importances = [(feature, round(importance, 2)) for feature, importance in zip(X, importances)]\n",
    "feature_importances = sorted(feature_importances, key = lambda x: x[1], reverse = True)"
   ]
  },
  {
   "cell_type": "code",
   "execution_count": 131,
   "metadata": {},
   "outputs": [
    {
     "name": "stdout",
     "output_type": "stream",
     "text": [
      "Variable: cost per unit        Importance: 0.65\n",
      "Variable: Revenue              Importance: 0.35\n",
      "Variable: product type         Importance: 0.0\n",
      "Variable: Time for delivery    Importance: 0.0\n",
      "Variable: store status         Importance: 0.0\n",
      "Variable: Promotion applied    Importance: 0.0\n",
      "Variable: Generic Holiday      Importance: 0.0\n",
      "Variable: DayOfWeek            Importance: 0.0\n"
     ]
    }
   ],
   "source": [
    "# Print out the feature and importances \n",
    "[print('Variable: {:20} Importance: {}'.format(*pair)) for pair in feature_importances];"
   ]
  },
  {
   "cell_type": "markdown",
   "metadata": {},
   "source": [
    "## Linear regression"
   ]
  },
  {
   "cell_type": "code",
   "execution_count": 132,
   "metadata": {},
   "outputs": [],
   "source": [
    "from sklearn.linear_model import LinearRegression\n",
    "from sklearn import metrics"
   ]
  },
  {
   "cell_type": "code",
   "execution_count": 133,
   "metadata": {},
   "outputs": [],
   "source": [
    "reg = LinearRegression()"
   ]
  },
  {
   "cell_type": "code",
   "execution_count": 135,
   "metadata": {},
   "outputs": [],
   "source": [
    "model = reg.fit(X_train, y_train)"
   ]
  },
  {
   "cell_type": "code",
   "execution_count": 136,
   "metadata": {},
   "outputs": [
    {
     "name": "stdout",
     "output_type": "stream",
     "text": [
      "Intercept:  21.004670671847116\n",
      "Coefficients: \n",
      " [-0.00044757 -0.01835505 -0.25068378  0.00202027  0.04828794  0.05869742\n",
      "  0.09607982  0.03227134]\n"
     ]
    }
   ],
   "source": [
    "print('Intercept: ', model.intercept_)\n",
    "print('Coefficients: \\n', model.coef_)"
   ]
  },
  {
   "cell_type": "code",
   "execution_count": 138,
   "metadata": {},
   "outputs": [],
   "source": [
    "# predicting trained values\n",
    "y_pred1 = model.predict(X_train)"
   ]
  },
  {
   "cell_type": "code",
   "execution_count": 139,
   "metadata": {},
   "outputs": [],
   "source": [
    "# predicting test values\n",
    "y_pred2 = model.predict(X_test)"
   ]
  },
  {
   "cell_type": "code",
   "execution_count": 140,
   "metadata": {},
   "outputs": [
    {
     "data": {
      "text/plain": [
       "Text(0, 0.5, 'Fitted values')"
      ]
     },
     "execution_count": 140,
     "metadata": {},
     "output_type": "execute_result"
    },
    {
     "data": {
      "image/png": "[encoded data removed]",
      "text/plain": [
       "<Figure size 432x288 with 1 Axes>"
      ]
     },
     "metadata": {
      "needs_background": "light"
     },
     "output_type": "display_data"
    }
   ],
   "source": [
    "# Observed values v/s fitted values\n",
    "plt.scatter(y_train, y_pred1, c=\"b\");plt.xlabel(\"Observed values\");plt.ylabel(\"Fitted values\")"
   ]
  },
  {
   "cell_type": "code",
   "execution_count": null,
   "metadata": {},
   "outputs": [],
   "source": [
    "# RMSE value"
   ]
  },
  {
   "cell_type": "code",
   "execution_count": 141,
   "metadata": {},
   "outputs": [
    {
     "name": "stdout",
     "output_type": "stream",
     "text": [
      "RMSE for training data:  16.417216637833246\n"
     ]
    }
   ],
   "source": [
    "print(\"RMSE for training data: \",np.sqrt(metrics.mean_squared_error(y_train,y_pred1)))"
   ]
  },
  {
   "cell_type": "code",
   "execution_count": 142,
   "metadata": {},
   "outputs": [
    {
     "name": "stdout",
     "output_type": "stream",
     "text": [
      "RMSE for testing data:  16.03955310343\n"
     ]
    }
   ],
   "source": [
    "print(\"RMSE for testing data: \",np.sqrt(metrics.mean_squared_error(y_test,y_pred2)))"
   ]
  },
  {
   "cell_type": "markdown",
   "metadata": {},
   "source": [
    "## Random Forest Regressor"
   ]
  },
  {
   "cell_type": "code",
   "execution_count": 143,
   "metadata": {},
   "outputs": [],
   "source": [
    "from sklearn.ensemble import RandomForestRegressor "
   ]
  },
  {
   "cell_type": "code",
   "execution_count": 144,
   "metadata": {},
   "outputs": [],
   "source": [
    "regressor = RandomForestRegressor(n_estimators = 20, random_state = 0)"
   ]
  },
  {
   "cell_type": "code",
   "execution_count": 145,
   "metadata": {},
   "outputs": [
    {
     "data": {
      "text/plain": [
       "RandomForestRegressor(n_estimators=20, random_state=0)"
      ]
     },
     "execution_count": 145,
     "metadata": {},
     "output_type": "execute_result"
    }
   ],
   "source": [
    "regressor.fit(X_train, y_train) "
   ]
  },
  {
   "cell_type": "code",
   "execution_count": 146,
   "metadata": {},
   "outputs": [],
   "source": [
    "# Predicting the values using the model"
   ]
  },
  {
   "cell_type": "code",
   "execution_count": 147,
   "metadata": {},
   "outputs": [],
   "source": [
    "Y_pred1 = regressor.predict(X_train) "
   ]
  },
  {
   "cell_type": "code",
   "execution_count": 148,
   "metadata": {},
   "outputs": [],
   "source": [
    "Y_pred2 = regressor.predict(X_test) "
   ]
  },
  {
   "cell_type": "code",
   "execution_count": 149,
   "metadata": {},
   "outputs": [
    {
     "name": "stderr",
     "output_type": "stream",
     "text": [
      "C:\\Users\\Admin\\Anaconda3\\lib\\site-packages\\matplotlib\\cbook\\__init__.py:1402: FutureWarning: Support for multi-dimensional indexing (e.g. `obj[:, None]`) is deprecated and will be removed in a future version.  Convert to a numpy array before indexing instead.\n",
      "  x[:, None]\n",
      "C:\\Users\\Admin\\Anaconda3\\lib\\site-packages\\matplotlib\\axes\\_base.py:276: FutureWarning: Support for multi-dimensional indexing (e.g. `obj[:, None]`) is deprecated and will be removed in a future version.  Convert to a numpy array before indexing instead.\n",
      "  x = x[:, np.newaxis]\n"
     ]
    },
    {
     "data": {
      "image/png": "[encoded data removed]",
      "text/plain": [
       "<Figure size 432x288 with 1 Axes>"
      ]
     },
     "metadata": {
      "needs_background": "light"
     },
     "output_type": "display_data"
    }
   ],
   "source": [
    "# plot predicted data \n",
    "plt.plot(y_test,Y_pred2,'bo')  \n",
    "plt.title('Random Forest Regression') \n",
    "plt.xlabel('Observed values') \n",
    "plt.ylabel('Predicted values') \n",
    "plt.show()"
   ]
  },
  {
   "cell_type": "code",
   "execution_count": 150,
   "metadata": {},
   "outputs": [],
   "source": [
    "# RMSE values"
   ]
  },
  {
   "cell_type": "code",
   "execution_count": 151,
   "metadata": {},
   "outputs": [
    {
     "name": "stdout",
     "output_type": "stream",
     "text": [
      "RMSE of training data: 0.08448273014778955\n"
     ]
    }
   ],
   "source": [
    "print('RMSE of training data:', np.sqrt(metrics.mean_squared_error(y_train, Y_pred1)))"
   ]
  },
  {
   "cell_type": "code",
   "execution_count": 152,
   "metadata": {},
   "outputs": [
    {
     "name": "stdout",
     "output_type": "stream",
     "text": [
      "RMSE of testing data: 0.16658828437731305\n"
     ]
    }
   ],
   "source": [
    "print('RMSE of testing data:', np.sqrt(metrics.mean_squared_error(y_test, Y_pred2)))"
   ]
  },
  {
   "cell_type": "markdown",
   "metadata": {},
   "source": [
    "## XG Boost Regressor"
   ]
  },
  {
   "cell_type": "code",
   "execution_count": 153,
   "metadata": {},
   "outputs": [
    {
     "name": "stderr",
     "output_type": "stream",
     "text": [
      "C:\\Users\\Admin\\Anaconda3\\lib\\site-packages\\dask\\dataframe\\utils.py:14: FutureWarning: pandas.util.testing is deprecated. Use the functions in the public API at pandas.testing instead.\n",
      "  import pandas.util.testing as tm\n"
     ]
    }
   ],
   "source": [
    "from xgboost.sklearn import XGBRegressor"
   ]
  },
  {
   "cell_type": "code",
   "execution_count": 154,
   "metadata": {},
   "outputs": [],
   "source": [
    "xg_reg = XGBRegressor() "
   ]
  },
  {
   "cell_type": "code",
   "execution_count": 155,
   "metadata": {},
   "outputs": [
    {
     "data": {
      "text/plain": [
       "XGBRegressor(base_score=0.5, booster='gbtree', colsample_bylevel=1,\n",
       "             colsample_bynode=1, colsample_bytree=1, gamma=0, gpu_id=-1,\n",
       "             importance_type='gain', interaction_constraints='',\n",
       "             learning_rate=0.300000012, max_delta_step=0, max_depth=6,\n",
       "             min_child_weight=1, missing=nan, monotone_constraints='()',\n",
       "             n_estimators=100, n_jobs=0, num_parallel_tree=1, random_state=0,\n",
       "             reg_alpha=0, reg_lambda=1, scale_pos_weight=1, subsample=1,\n",
       "             tree_method='exact', validate_parameters=1, verbosity=None)"
      ]
     },
     "execution_count": 155,
     "metadata": {},
     "output_type": "execute_result"
    }
   ],
   "source": [
    "xg_reg.fit(X_train, y_train) "
   ]
  },
  {
   "cell_type": "code",
   "execution_count": 156,
   "metadata": {},
   "outputs": [],
   "source": [
    "# Predicting the values using the model"
   ]
  },
  {
   "cell_type": "code",
   "execution_count": 157,
   "metadata": {},
   "outputs": [],
   "source": [
    "y_pred_xg1 = xg_reg.predict(X_train) "
   ]
  },
  {
   "cell_type": "code",
   "execution_count": 158,
   "metadata": {},
   "outputs": [],
   "source": [
    "y_pred_xg2 = xg_reg.predict(X_test) "
   ]
  },
  {
   "cell_type": "code",
   "execution_count": 159,
   "metadata": {},
   "outputs": [
    {
     "name": "stderr",
     "output_type": "stream",
     "text": [
      "C:\\Users\\Admin\\Anaconda3\\lib\\site-packages\\matplotlib\\cbook\\__init__.py:1402: FutureWarning: Support for multi-dimensional indexing (e.g. `obj[:, None]`) is deprecated and will be removed in a future version.  Convert to a numpy array before indexing instead.\n",
      "  x[:, None]\n",
      "C:\\Users\\Admin\\Anaconda3\\lib\\site-packages\\matplotlib\\axes\\_base.py:276: FutureWarning: Support for multi-dimensional indexing (e.g. `obj[:, None]`) is deprecated and will be removed in a future version.  Convert to a numpy array before indexing instead.\n",
      "  x = x[:, np.newaxis]\n"
     ]
    },
    {
     "data": {
      "image/png": "[encoded data removed]",
      "text/plain": [
       "<Figure size 432x288 with 1 Axes>"
      ]
     },
     "metadata": {
      "needs_background": "light"
     },
     "output_type": "display_data"
    }
   ],
   "source": [
    "# plot predicted data \n",
    "plt.plot(y_test,y_pred_xg2,\"bo\")  \n",
    "plt.title('XG bossting') \n",
    "plt.xlabel('Observed values') \n",
    "plt.ylabel('Predicted values') \n",
    "plt.show()"
   ]
  },
  {
   "cell_type": "code",
   "execution_count": 160,
   "metadata": {},
   "outputs": [],
   "source": [
    "# RMSE values"
   ]
  },
  {
   "cell_type": "code",
   "execution_count": 161,
   "metadata": {},
   "outputs": [
    {
     "name": "stdout",
     "output_type": "stream",
     "text": [
      "RMSE Training data: 0.3832454310510727\n"
     ]
    }
   ],
   "source": [
    "print('RMSE Training data:', np.sqrt(metrics.mean_squared_error(y_train,y_pred_xg1)))"
   ]
  },
  {
   "cell_type": "code",
   "execution_count": 162,
   "metadata": {},
   "outputs": [
    {
     "name": "stdout",
     "output_type": "stream",
     "text": [
      "RMSE Testing data: 0.4066658805918103\n"
     ]
    }
   ],
   "source": [
    "print('RMSE Testing data:', np.sqrt(metrics.mean_squared_error(y_test,y_pred_xg2)))"
   ]
  },
  {
   "cell_type": "markdown",
   "metadata": {},
   "source": [
    "### Hyper parameter tuning for XG Boosting"
   ]
  },
  {
   "cell_type": "code",
   "execution_count": 163,
   "metadata": {},
   "outputs": [],
   "source": [
    "import xgboost"
   ]
  },
  {
   "cell_type": "code",
   "execution_count": 164,
   "metadata": {},
   "outputs": [],
   "source": [
    "regressor=xgboost.XGBRegressor()"
   ]
  },
  {
   "cell_type": "code",
   "execution_count": 165,
   "metadata": {},
   "outputs": [],
   "source": [
    "booster=['gbtree']\n",
    "base_score=[0.5]"
   ]
  },
  {
   "cell_type": "code",
   "execution_count": 166,
   "metadata": {},
   "outputs": [],
   "source": [
    "n_estimators = [100, 200]\n",
    "max_depth = [3, 4]\n",
    "learning_rate=[0.1,0.2]"
   ]
  },
  {
   "cell_type": "code",
   "execution_count": 167,
   "metadata": {},
   "outputs": [],
   "source": [
    "# Define the grid of hyperparameters to search\n",
    "hyperparameter_grid = {\n",
    "    'n_estimators': n_estimators,\n",
    "    'max_depth':max_depth,\n",
    "    'learning_rate':learning_rate,\n",
    "    'booster':booster,\n",
    "    'base_score':base_score\n",
    "    }"
   ]
  },
  {
   "cell_type": "code",
   "execution_count": 168,
   "metadata": {},
   "outputs": [],
   "source": [
    "from sklearn.model_selection import RandomizedSearchCV"
   ]
  },
  {
   "cell_type": "code",
   "execution_count": 175,
   "metadata": {},
   "outputs": [],
   "source": [
    "# Set up the random search with 3-fold cross validation\n",
    "random_cv = RandomizedSearchCV(estimator=regressor,\n",
    "            param_distributions=hyperparameter_grid,\n",
    "            cv=3, n_iter=20,\n",
    "            scoring = 'neg_root_mean_squared_error',n_jobs = 3,\n",
    "            verbose = 5, \n",
    "            return_train_score = True,\n",
    "            random_state=36)"
   ]
  },
  {
   "cell_type": "code",
   "execution_count": 176,
   "metadata": {},
   "outputs": [
    {
     "name": "stderr",
     "output_type": "stream",
     "text": [
      "C:\\Users\\Admin\\Anaconda3\\lib\\site-packages\\sklearn\\model_selection\\_search.py:282: UserWarning: The total space of parameters 8 is smaller than n_iter=20. Running 8 iterations. For exhaustive searches, use GridSearchCV.\n",
      "  % (grid_size, self.n_iter, grid_size), UserWarning)\n",
      "[Parallel(n_jobs=3)]: Using backend LokyBackend with 3 concurrent workers.\n"
     ]
    },
    {
     "name": "stdout",
     "output_type": "stream",
     "text": [
      "Fitting 3 folds for each of 8 candidates, totalling 24 fits\n"
     ]
    },
    {
     "name": "stderr",
     "output_type": "stream",
     "text": [
      "[Parallel(n_jobs=3)]: Done  12 tasks      | elapsed:  6.4min\n",
      "[Parallel(n_jobs=3)]: Done  24 out of  24 | elapsed: 12.9min remaining:    0.0s\n",
      "[Parallel(n_jobs=3)]: Done  24 out of  24 | elapsed: 12.9min finished\n"
     ]
    },
    {
     "data": {
      "text/plain": [
       "RandomizedSearchCV(cv=3,\n",
       "                   estimator=XGBRegressor(base_score=None, booster=None,\n",
       "                                          colsample_bylevel=None,\n",
       "                                          colsample_bynode=None,\n",
       "                                          colsample_bytree=None, gamma=None,\n",
       "                                          gpu_id=None, importance_type='gain',\n",
       "                                          interaction_constraints=None,\n",
       "                                          learning_rate=None,\n",
       "                                          max_delta_step=None, max_depth=None,\n",
       "                                          min_child_weight=None, missing=nan,\n",
       "                                          monotone_constraints=None,\n",
       "                                          n_estimators=100, n...\n",
       "                                          random_state=None, reg_alpha=None,\n",
       "                                          reg_lambda=None,\n",
       "                                          scale_pos_weight=None, subsample=None,\n",
       "                                          tree_method=None,\n",
       "                                          validate_parameters=None,\n",
       "                                          verbosity=None),\n",
       "                   n_iter=20, n_jobs=3,\n",
       "                   param_distributions={'base_score': [0.5],\n",
       "                                        'booster': ['gbtree'],\n",
       "                                        'learning_rate': [0.1, 0.2],\n",
       "                                        'max_depth': [3, 4],\n",
       "                                        'n_estimators': [100, 200]},\n",
       "                   random_state=36, return_train_score=True,\n",
       "                   scoring='neg_root_mean_squared_error', verbose=5)"
      ]
     },
     "execution_count": 176,
     "metadata": {},
     "output_type": "execute_result"
    }
   ],
   "source": [
    "random_cv.fit(X_train,y_train)"
   ]
  },
  {
   "cell_type": "code",
   "execution_count": 177,
   "metadata": {},
   "outputs": [
    {
     "data": {
      "text/plain": [
       "XGBRegressor(base_score=0.5, booster='gbtree', colsample_bylevel=1,\n",
       "             colsample_bynode=1, colsample_bytree=1, gamma=0, gpu_id=-1,\n",
       "             importance_type='gain', interaction_constraints='',\n",
       "             learning_rate=0.1, max_delta_step=0, max_depth=4,\n",
       "             min_child_weight=1, missing=nan, monotone_constraints='()',\n",
       "             n_estimators=200, n_jobs=0, num_parallel_tree=1, random_state=0,\n",
       "             reg_alpha=0, reg_lambda=1, scale_pos_weight=1, subsample=1,\n",
       "             tree_method='exact', validate_parameters=1, verbosity=None)"
      ]
     },
     "execution_count": 177,
     "metadata": {},
     "output_type": "execute_result"
    }
   ],
   "source": [
    "random_cv.best_estimator_"
   ]
  },
  {
   "cell_type": "code",
   "execution_count": 178,
   "metadata": {},
   "outputs": [],
   "source": [
    "regressor = xgboost.XGBRegressor(base_score=0.5, booster='gbtree', colsample_bylevel=1,\n",
    "             colsample_bynode=1, colsample_bytree=1, gamma=0, gpu_id=-1,\n",
    "             importance_type='gain', interaction_constraints='',\n",
    "             learning_rate=0.1, max_delta_step=0, max_depth=4,\n",
    "             min_child_weight=1,  monotone_constraints='()',\n",
    "             n_estimators=200, n_jobs=0, num_parallel_tree=1, random_state=0,\n",
    "             reg_alpha=0, reg_lambda=1, scale_pos_weight=1, subsample=1,\n",
    "             tree_method='exact', validate_parameters=1, verbosity=None)"
   ]
  },
  {
   "cell_type": "code",
   "execution_count": 179,
   "metadata": {},
   "outputs": [
    {
     "data": {
      "text/plain": [
       "XGBRegressor(base_score=0.5, booster='gbtree', colsample_bylevel=1,\n",
       "             colsample_bynode=1, colsample_bytree=1, gamma=0, gpu_id=-1,\n",
       "             importance_type='gain', interaction_constraints='',\n",
       "             learning_rate=0.1, max_delta_step=0, max_depth=4,\n",
       "             min_child_weight=1, missing=nan, monotone_constraints='()',\n",
       "             n_estimators=200, n_jobs=0, num_parallel_tree=1, random_state=0,\n",
       "             reg_alpha=0, reg_lambda=1, scale_pos_weight=1, subsample=1,\n",
       "             tree_method='exact', validate_parameters=1, verbosity=None)"
      ]
     },
     "execution_count": 179,
     "metadata": {},
     "output_type": "execute_result"
    }
   ],
   "source": [
    "regressor.fit(X_train,y_train)"
   ]
  },
  {
   "cell_type": "code",
   "execution_count": 180,
   "metadata": {},
   "outputs": [],
   "source": [
    "# Predicting the output values"
   ]
  },
  {
   "cell_type": "code",
   "execution_count": 181,
   "metadata": {},
   "outputs": [],
   "source": [
    "y_pred_xgb1 = regressor.predict(X_train)"
   ]
  },
  {
   "cell_type": "code",
   "execution_count": 182,
   "metadata": {},
   "outputs": [],
   "source": [
    "y_pred_xgb2 = regressor.predict(X_test)"
   ]
  },
  {
   "cell_type": "code",
   "execution_count": 183,
   "metadata": {},
   "outputs": [
    {
     "name": "stderr",
     "output_type": "stream",
     "text": [
      "C:\\Users\\Admin\\Anaconda3\\lib\\site-packages\\matplotlib\\cbook\\__init__.py:1402: FutureWarning: Support for multi-dimensional indexing (e.g. `obj[:, None]`) is deprecated and will be removed in a future version.  Convert to a numpy array before indexing instead.\n",
      "  x[:, None]\n",
      "C:\\Users\\Admin\\Anaconda3\\lib\\site-packages\\matplotlib\\axes\\_base.py:276: FutureWarning: Support for multi-dimensional indexing (e.g. `obj[:, None]`) is deprecated and will be removed in a future version.  Convert to a numpy array before indexing instead.\n",
      "  x = x[:, np.newaxis]\n"
     ]
    },
    {
     "data": {
      "image/png": "[encoded data removed]",
      "text/plain": [
       "<Figure size 432x288 with 1 Axes>"
      ]
     },
     "metadata": {
      "needs_background": "light"
     },
     "output_type": "display_data"
    }
   ],
   "source": [
    "# plot predicted data \n",
    "plt.plot(y_test,y_pred_xgb2,\"bo\")  \n",
    "plt.title('XG bossting') \n",
    "plt.xlabel('Observed values') \n",
    "plt.ylabel('Predicted values') \n",
    "plt.show()"
   ]
  },
  {
   "cell_type": "code",
   "execution_count": 184,
   "metadata": {},
   "outputs": [],
   "source": [
    "# RMSE values"
   ]
  },
  {
   "cell_type": "code",
   "execution_count": 185,
   "metadata": {},
   "outputs": [
    {
     "name": "stdout",
     "output_type": "stream",
     "text": [
      "RMSE of training data: 0.5490242069683807\n"
     ]
    }
   ],
   "source": [
    "print('RMSE of training data:', np.sqrt(metrics.mean_squared_error(y_train,y_pred_xgb1)))"
   ]
  },
  {
   "cell_type": "code",
   "execution_count": 186,
   "metadata": {},
   "outputs": [
    {
     "name": "stdout",
     "output_type": "stream",
     "text": [
      "RMSE of testing data: 0.5493776324083857\n"
     ]
    }
   ],
   "source": [
    "print('RMSE of testing data:', np.sqrt(metrics.mean_squared_error(y_test,y_pred_xgb2)))"
   ]
  },
  {
   "cell_type": "markdown",
   "metadata": {},
   "source": [
    "#### \"Random Forest Regressor\" with RMSE of 0.16 is the best model"
   ]
  },
  {
   "cell_type": "markdown",
   "metadata": {},
   "source": [
    "### Creating the pickle file of the model"
   ]
  },
  {
   "cell_type": "code",
   "execution_count": 188,
   "metadata": {},
   "outputs": [],
   "source": [
    "import pickle\n",
    "with open('model_rf_inventory.pkl','wb') as f:\n",
    "    pickle.dump(regressor,f)"
   ]
  },
  {
   "cell_type": "code",
   "execution_count": 190,
   "metadata": {},
   "outputs": [],
   "source": [
    "# Load from file\n",
    "with open('model_rf_inventory.pkl', 'rb') as file:\n",
    "    pickle_model = pickle.load(file)"
   ]
  },
  {
   "cell_type": "code",
   "execution_count": 191,
   "metadata": {},
   "outputs": [
    {
     "name": "stdout",
     "output_type": "stream",
     "text": [
      "Test score: 99.93 %\n"
     ]
    }
   ],
   "source": [
    "# Calculate the accuracy score and predict target values\n",
    "score = pickle_model.score(X_test, y_test)\n",
    "print(\"Test score: {0:.2f} %\".format(100 * score))\n",
    "Ypredict = pickle_model.predict(X_test)"
   ]
  },
  {
   "cell_type": "code",
   "execution_count": null,
   "metadata": {},
   "outputs": [],
   "source": []
  }
 ],
 "metadata": {
  "kernelspec": {
   "display_name": "Python 3",
   "language": "python",
   "name": "python3"
  },
  "language_info": {
   "codemirror_mode": {
    "name": "ipython",
    "version": 3
   },
   "file_extension": ".py",
   "mimetype": "text/x-python",
   "name": "python",
   "nbconvert_exporter": "python",
   "pygments_lexer": "ipython3",
   "version": "3.7.4"
  }
 },
 "nbformat": 4,
 "nbformat_minor": 2
}
